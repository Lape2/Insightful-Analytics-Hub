{
 "cells": [
  {
   "cell_type": "markdown",
   "id": "1c6ba7d6",
   "metadata": {},
   "source": [
    "# **Unveiling Consumer Financial Experiences: Analyzing CFPB Complaints**"
   ]
  },
  {
   "cell_type": "markdown",
   "id": "167bedf3",
   "metadata": {},
   "source": [
    "# Introduction"
   ]
  },
  {
   "cell_type": "markdown",
   "id": "9d0b80a9",
   "metadata": {},
   "source": [
    "Data Source: The dataset used in this project is sourced from Kaggle, a platform for data science and machine learning competitions. The dataset specifically comes from the Consumer Financial Protection Bureau (CFPB) Complaint Database.\n",
    "\n",
    "About the Dataset: The CFPB Complaint Database contains complaints submitted by consumers regarding various financial products and services. These complaints cover a wide range of issues, including but not limited to credit cards, mortgages, student loans, and debt collection. Each complaint typically includes details such as the consumer's narrative, the type of financial product or service involved, the company being complained about, and the resolution status.\n",
    "\n",
    "Project Objective: The objective of this project is to analyze the CFPB complaints data to gain insights into consumer experiences with financial products and services. This analysis will involve several steps, including data cleaning and preprocessing, exploratory data analysis (EDA), and visualization. By analyzing the complaints data, we aim to identify common issues, trends over time, sentiments, and other valuable insights that can help improve the financial marketplace.\n",
    "\n",
    "Data Description: The dataset consists of several columns, including:\n",
    "\n",
    "Date Received: The date when the complaint was submitted.\n",
    "\n",
    "Product: The type of financial product or service associated with the complaint (e.g., credit reporting, debt collection).\n",
    "\n",
    "Issue: The specific issue or problem reported by the consumer.\n",
    "\n",
    "Consumer Complaint Narrative: The detailed narrative provided by the consumer describing their experience.\n",
    "\n",
    "Company: The company against which the complaint is filed.\n",
    "\n",
    "State: The state where the consumer resides.\n",
    "\n",
    "Zip Code: The zip code of the consumer.\n",
    "\n",
    "Tags: Additional information or tags associated with the complaint.\n",
    "\n",
    "Consumer Consent Provided: Indicates whether the consumer provided consent to publish their complaint narrative.\n",
    "\n",
    "Company Response to Consumer: The response provided by the company to the consumer's complaint.\n",
    "\n",
    "Timely Response: Indicates whether the company responded to the complaint within the specified time frame."
   ]
  },
  {
   "cell_type": "markdown",
   "id": "08b773bf",
   "metadata": {},
   "source": [
    "# Data Processing\n",
    "Data Processing: The first step after loading the data is to process the data. In this step, I will be handling missing values, standardizing formats, and removing irrelevant information."
   ]
  },
  {
   "cell_type": "code",
   "execution_count": 8,
   "id": "3f4805e8",
   "metadata": {},
   "outputs": [
    {
     "name": "stderr",
     "output_type": "stream",
     "text": [
      "C:\\Users\\olape\\AppData\\Local\\Temp\\ipykernel_8068\\2803680057.py:9: DtypeWarning: Columns (5,11) have mixed types. Specify dtype option on import or set low_memory=False.\n",
      "  df = pd.read_csv(r\"C:\\Users\\olape\\OneDrive\\Desktop\\Personal Projects\\consumer_complaints.csv\")\n"
     ]
    },
    {
     "data": {
      "text/html": [
       "<div>\n",
       "<style scoped>\n",
       "    .dataframe tbody tr th:only-of-type {\n",
       "        vertical-align: middle;\n",
       "    }\n",
       "\n",
       "    .dataframe tbody tr th {\n",
       "        vertical-align: top;\n",
       "    }\n",
       "\n",
       "    .dataframe thead th {\n",
       "        text-align: right;\n",
       "    }\n",
       "</style>\n",
       "<table border=\"1\" class=\"dataframe\">\n",
       "  <thead>\n",
       "    <tr style=\"text-align: right;\">\n",
       "      <th></th>\n",
       "      <th>date_received</th>\n",
       "      <th>product</th>\n",
       "      <th>sub_product</th>\n",
       "      <th>issue</th>\n",
       "      <th>sub_issue</th>\n",
       "      <th>consumer_complaint_narrative</th>\n",
       "      <th>company_public_response</th>\n",
       "      <th>company</th>\n",
       "      <th>state</th>\n",
       "      <th>zipcode</th>\n",
       "      <th>tags</th>\n",
       "      <th>consumer_consent_provided</th>\n",
       "      <th>submitted_via</th>\n",
       "      <th>date_sent_to_company</th>\n",
       "      <th>company_response_to_consumer</th>\n",
       "      <th>timely_response</th>\n",
       "      <th>consumer_disputed?</th>\n",
       "      <th>complaint_id</th>\n",
       "    </tr>\n",
       "  </thead>\n",
       "  <tbody>\n",
       "    <tr>\n",
       "      <th>0</th>\n",
       "      <td>08/30/2013</td>\n",
       "      <td>Mortgage</td>\n",
       "      <td>Other mortgage</td>\n",
       "      <td>Loan modification,collection,foreclosure</td>\n",
       "      <td>NaN</td>\n",
       "      <td>NaN</td>\n",
       "      <td>NaN</td>\n",
       "      <td>U.S. Bancorp</td>\n",
       "      <td>CA</td>\n",
       "      <td>95993</td>\n",
       "      <td>NaN</td>\n",
       "      <td>NaN</td>\n",
       "      <td>Referral</td>\n",
       "      <td>09/03/2013</td>\n",
       "      <td>Closed with explanation</td>\n",
       "      <td>Yes</td>\n",
       "      <td>Yes</td>\n",
       "      <td>511074</td>\n",
       "    </tr>\n",
       "    <tr>\n",
       "      <th>1</th>\n",
       "      <td>08/30/2013</td>\n",
       "      <td>Mortgage</td>\n",
       "      <td>Other mortgage</td>\n",
       "      <td>Loan servicing, payments, escrow account</td>\n",
       "      <td>NaN</td>\n",
       "      <td>NaN</td>\n",
       "      <td>NaN</td>\n",
       "      <td>Wells Fargo &amp; Company</td>\n",
       "      <td>CA</td>\n",
       "      <td>91104</td>\n",
       "      <td>NaN</td>\n",
       "      <td>NaN</td>\n",
       "      <td>Referral</td>\n",
       "      <td>09/03/2013</td>\n",
       "      <td>Closed with explanation</td>\n",
       "      <td>Yes</td>\n",
       "      <td>Yes</td>\n",
       "      <td>511080</td>\n",
       "    </tr>\n",
       "    <tr>\n",
       "      <th>2</th>\n",
       "      <td>08/30/2013</td>\n",
       "      <td>Credit reporting</td>\n",
       "      <td>NaN</td>\n",
       "      <td>Incorrect information on credit report</td>\n",
       "      <td>Account status</td>\n",
       "      <td>NaN</td>\n",
       "      <td>NaN</td>\n",
       "      <td>Wells Fargo &amp; Company</td>\n",
       "      <td>NY</td>\n",
       "      <td>11764</td>\n",
       "      <td>NaN</td>\n",
       "      <td>NaN</td>\n",
       "      <td>Postal mail</td>\n",
       "      <td>09/18/2013</td>\n",
       "      <td>Closed with explanation</td>\n",
       "      <td>Yes</td>\n",
       "      <td>No</td>\n",
       "      <td>510473</td>\n",
       "    </tr>\n",
       "    <tr>\n",
       "      <th>3</th>\n",
       "      <td>08/30/2013</td>\n",
       "      <td>Student loan</td>\n",
       "      <td>Non-federal student loan</td>\n",
       "      <td>Repaying your loan</td>\n",
       "      <td>Repaying your loan</td>\n",
       "      <td>NaN</td>\n",
       "      <td>NaN</td>\n",
       "      <td>Navient Solutions, Inc.</td>\n",
       "      <td>MD</td>\n",
       "      <td>21402</td>\n",
       "      <td>NaN</td>\n",
       "      <td>NaN</td>\n",
       "      <td>Email</td>\n",
       "      <td>08/30/2013</td>\n",
       "      <td>Closed with explanation</td>\n",
       "      <td>Yes</td>\n",
       "      <td>Yes</td>\n",
       "      <td>510326</td>\n",
       "    </tr>\n",
       "    <tr>\n",
       "      <th>4</th>\n",
       "      <td>08/30/2013</td>\n",
       "      <td>Debt collection</td>\n",
       "      <td>Credit card</td>\n",
       "      <td>False statements or representation</td>\n",
       "      <td>Attempted to collect wrong amount</td>\n",
       "      <td>NaN</td>\n",
       "      <td>NaN</td>\n",
       "      <td>Resurgent Capital Services L.P.</td>\n",
       "      <td>GA</td>\n",
       "      <td>30106</td>\n",
       "      <td>NaN</td>\n",
       "      <td>NaN</td>\n",
       "      <td>Web</td>\n",
       "      <td>08/30/2013</td>\n",
       "      <td>Closed with explanation</td>\n",
       "      <td>Yes</td>\n",
       "      <td>Yes</td>\n",
       "      <td>511067</td>\n",
       "    </tr>\n",
       "  </tbody>\n",
       "</table>\n",
       "</div>"
      ],
      "text/plain": [
       "  date_received           product               sub_product  \\\n",
       "0    08/30/2013          Mortgage            Other mortgage   \n",
       "1    08/30/2013          Mortgage            Other mortgage   \n",
       "2    08/30/2013  Credit reporting                       NaN   \n",
       "3    08/30/2013      Student loan  Non-federal student loan   \n",
       "4    08/30/2013   Debt collection               Credit card   \n",
       "\n",
       "                                      issue  \\\n",
       "0  Loan modification,collection,foreclosure   \n",
       "1  Loan servicing, payments, escrow account   \n",
       "2    Incorrect information on credit report   \n",
       "3                        Repaying your loan   \n",
       "4        False statements or representation   \n",
       "\n",
       "                           sub_issue consumer_complaint_narrative  \\\n",
       "0                                NaN                          NaN   \n",
       "1                                NaN                          NaN   \n",
       "2                     Account status                          NaN   \n",
       "3                 Repaying your loan                          NaN   \n",
       "4  Attempted to collect wrong amount                          NaN   \n",
       "\n",
       "  company_public_response                          company state zipcode tags  \\\n",
       "0                     NaN                     U.S. Bancorp    CA   95993  NaN   \n",
       "1                     NaN            Wells Fargo & Company    CA   91104  NaN   \n",
       "2                     NaN            Wells Fargo & Company    NY   11764  NaN   \n",
       "3                     NaN          Navient Solutions, Inc.    MD   21402  NaN   \n",
       "4                     NaN  Resurgent Capital Services L.P.    GA   30106  NaN   \n",
       "\n",
       "  consumer_consent_provided submitted_via date_sent_to_company  \\\n",
       "0                       NaN      Referral           09/03/2013   \n",
       "1                       NaN      Referral           09/03/2013   \n",
       "2                       NaN   Postal mail           09/18/2013   \n",
       "3                       NaN         Email           08/30/2013   \n",
       "4                       NaN           Web           08/30/2013   \n",
       "\n",
       "  company_response_to_consumer timely_response consumer_disputed?  \\\n",
       "0      Closed with explanation             Yes                Yes   \n",
       "1      Closed with explanation             Yes                Yes   \n",
       "2      Closed with explanation             Yes                 No   \n",
       "3      Closed with explanation             Yes                Yes   \n",
       "4      Closed with explanation             Yes                Yes   \n",
       "\n",
       "   complaint_id  \n",
       "0        511074  \n",
       "1        511080  \n",
       "2        510473  \n",
       "3        510326  \n",
       "4        511067  "
      ]
     },
     "execution_count": 8,
     "metadata": {},
     "output_type": "execute_result"
    }
   ],
   "source": [
    "# Importing necessary libraries\n",
    "import pandas as pd\n",
    "import numpy as np\n",
    "import matplotlib.pyplot as plt\n",
    "import seaborn as sns\n",
    "\n",
    "# Load the dataset into a pandas DataFrame\n",
    "\n",
    "df = pd.read_csv(r\"C:\\Users\\olape\\OneDrive\\Desktop\\Personal Projects\\consumer_complaints.csv\")\n",
    "\n",
    "# Display the first few rows of the dataset to verify it's loaded correctly\n",
    "df.head()"
   ]
  },
  {
   "cell_type": "code",
   "execution_count": 10,
   "id": "98154177",
   "metadata": {},
   "outputs": [
    {
     "name": "stdout",
     "output_type": "stream",
     "text": [
      "Number of Rows: 555957\n"
     ]
    }
   ],
   "source": [
    "# Count the number of rows in the DataFrame\n",
    "num_rows = df.shape[0]\n",
    "\n",
    "# Print the number of rows\n",
    "print(\"Number of Rows:\", num_rows)\n"
   ]
  },
  {
   "cell_type": "code",
   "execution_count": 9,
   "id": "be947de2",
   "metadata": {},
   "outputs": [
    {
     "name": "stdout",
     "output_type": "stream",
     "text": [
      "Columns with Missing Values:\n",
      "                              Missing Values  Percentage\n",
      "consumer_complaint_narrative          489151   87.983603\n",
      "tags                                  477998   85.977513\n",
      "company_public_response               470833   84.688744\n",
      "consumer_consent_provided             432499   77.793606\n",
      "sub_issue                             343335   61.755675\n",
      "sub_product                           158322   28.477382\n",
      "state                                   4887    0.879025\n",
      "zipcode                                 4505    0.810314\n"
     ]
    }
   ],
   "source": [
    "# Check for missing values in each column\n",
    "missing_values = df.isnull().sum()\n",
    "\n",
    "# Calculate the percentage of missing values in each column\n",
    "missing_percentage = (missing_values / len(df)) * 100\n",
    "\n",
    "# Create a DataFrame to display the results\n",
    "missing_data = pd.DataFrame({'Missing Values': missing_values, 'Percentage': missing_percentage})\n",
    "missing_data.sort_values(by='Percentage', ascending=False, inplace=True)\n",
    "\n",
    "# Display columns with missing values\n",
    "print(\"Columns with Missing Values:\")\n",
    "print(missing_data[missing_data['Missing Values'] > 0])\n"
   ]
  },
  {
   "cell_type": "markdown",
   "id": "45fc88a9",
   "metadata": {},
   "source": [
    "consumer_complaint_narrative: This column has the highest percentage of missing values (87.98%). It contains detailed narratives provided by consumers, and missing values likely indicate cases where consumers did not provide additional information beyond the standard complaint form.\n",
    "\n",
    "tags: This column has missing values for 85.98% of the rows. It likely contains additional information or tags associated with the complaints, but many entries are missing this information.\n",
    "\n",
    "company_public_response: Approximately 84.69% of entries in this column are missing. This column likely contains responses provided by companies to address consumer complaints publicly.\n",
    "\n",
    "consumer_consent_provided: About 77.79% of entries in this column are missing. It indicates whether consumers provided consent to publish their complaint narrative.\n",
    "\n",
    "sub_issue: This column has missing values for 61.76% of the rows. It likely contains sub-categories or more specific descriptions of the issues reported by consumers.\n",
    "\n",
    "sub_product: Around 28.48% of entries in this column are missing. It represents sub-categories of financial products or services associated with the complaints.\n",
    "\n",
    "state: Only 0.88% of entries in this column are missing, which is relatively small compared to other columns. It represents the state where the consumer resides.\n",
    "\n",
    "zipcode: Approximately 0.81% of entries in this column are missing. It represents the zip code of the consumer.\n",
    "\n",
    "Sub_product, state, and zipcode are important coloumns in the dataset and has less than 30% of missing values, hence I will be dropping the rows with the missing values in these coloumns.\n",
    "\n",
    "Given that the 'sub_product,' 'state,' and 'zipcode' columns are vital for our analysis and have missing values in less than 30% of the dataset, it's reasonable to drop the rows with the missing values. Retaining only data with complete information in these columns ensures the integrity and accuracy of our analysis, focusing on the most relevant and informative data points."
   ]
  },
  {
   "cell_type": "code",
   "execution_count": 11,
   "id": "e4308b6e",
   "metadata": {},
   "outputs": [
    {
     "name": "stdout",
     "output_type": "stream",
     "text": [
      "Number of Rows after dropping missing values: 393942\n"
     ]
    }
   ],
   "source": [
    "# Drop rows with missing values under specific columns\n",
    "df.dropna(subset=['sub_product', 'state', 'zipcode'], inplace=True)\n",
    "\n",
    "# Verify that rows with missing values under those columns have been dropped\n",
    "print(\"Number of Rows after dropping missing values:\", df.shape[0])\n"
   ]
  },
  {
   "cell_type": "code",
   "execution_count": 12,
   "id": "538e852e",
   "metadata": {},
   "outputs": [
    {
     "name": "stdout",
     "output_type": "stream",
     "text": [
      "Columns with Missing Values:\n",
      "sub_issue                       274032\n",
      "consumer_complaint_narrative    347729\n",
      "company_public_response         340848\n",
      "tags                            338194\n",
      "consumer_consent_provided       312445\n",
      "dtype: int64\n"
     ]
    }
   ],
   "source": [
    "# Check for missing values in each column\n",
    "missing_values = df.isnull().sum()\n",
    "\n",
    "# Display columns with missing values\n",
    "print(\"Columns with Missing Values:\")\n",
    "print(missing_values[missing_values > 0])\n"
   ]
  },
  {
   "cell_type": "code",
   "execution_count": 13,
   "id": "c6784e2b",
   "metadata": {},
   "outputs": [],
   "source": [
    "# Drop irrelevant columns (columns not needed for analysis)\n",
    "irrelevant_columns = ['sub_issue', 'consumer_complaint_narrative', 'company_public_response', 'tags', 'consumer_consent_provided']\n",
    "df.drop(columns=irrelevant_columns, inplace=True)\n"
   ]
  },
  {
   "cell_type": "code",
   "execution_count": 14,
   "id": "94c99043",
   "metadata": {},
   "outputs": [
    {
     "data": {
      "text/html": [
       "<div>\n",
       "<style scoped>\n",
       "    .dataframe tbody tr th:only-of-type {\n",
       "        vertical-align: middle;\n",
       "    }\n",
       "\n",
       "    .dataframe tbody tr th {\n",
       "        vertical-align: top;\n",
       "    }\n",
       "\n",
       "    .dataframe thead th {\n",
       "        text-align: right;\n",
       "    }\n",
       "</style>\n",
       "<table border=\"1\" class=\"dataframe\">\n",
       "  <thead>\n",
       "    <tr style=\"text-align: right;\">\n",
       "      <th></th>\n",
       "      <th>date_received</th>\n",
       "      <th>product</th>\n",
       "      <th>sub_product</th>\n",
       "      <th>issue</th>\n",
       "      <th>company</th>\n",
       "      <th>state</th>\n",
       "      <th>zipcode</th>\n",
       "      <th>submitted_via</th>\n",
       "      <th>date_sent_to_company</th>\n",
       "      <th>company_response_to_consumer</th>\n",
       "      <th>timely_response</th>\n",
       "      <th>consumer_disputed?</th>\n",
       "      <th>complaint_id</th>\n",
       "    </tr>\n",
       "  </thead>\n",
       "  <tbody>\n",
       "    <tr>\n",
       "      <th>0</th>\n",
       "      <td>2013-08-30</td>\n",
       "      <td>Mortgage</td>\n",
       "      <td>Other mortgage</td>\n",
       "      <td>Loan modification,collection,foreclosure</td>\n",
       "      <td>U.S. Bancorp</td>\n",
       "      <td>CA</td>\n",
       "      <td>95993</td>\n",
       "      <td>Referral</td>\n",
       "      <td>2013-09-03</td>\n",
       "      <td>Closed with explanation</td>\n",
       "      <td>Yes</td>\n",
       "      <td>Yes</td>\n",
       "      <td>511074</td>\n",
       "    </tr>\n",
       "    <tr>\n",
       "      <th>1</th>\n",
       "      <td>2013-08-30</td>\n",
       "      <td>Mortgage</td>\n",
       "      <td>Other mortgage</td>\n",
       "      <td>Loan servicing, payments, escrow account</td>\n",
       "      <td>Wells Fargo &amp; Company</td>\n",
       "      <td>CA</td>\n",
       "      <td>91104</td>\n",
       "      <td>Referral</td>\n",
       "      <td>2013-09-03</td>\n",
       "      <td>Closed with explanation</td>\n",
       "      <td>Yes</td>\n",
       "      <td>Yes</td>\n",
       "      <td>511080</td>\n",
       "    </tr>\n",
       "    <tr>\n",
       "      <th>3</th>\n",
       "      <td>2013-08-30</td>\n",
       "      <td>Student loan</td>\n",
       "      <td>Non-federal student loan</td>\n",
       "      <td>Repaying your loan</td>\n",
       "      <td>Navient Solutions, Inc.</td>\n",
       "      <td>MD</td>\n",
       "      <td>21402</td>\n",
       "      <td>Email</td>\n",
       "      <td>2013-08-30</td>\n",
       "      <td>Closed with explanation</td>\n",
       "      <td>Yes</td>\n",
       "      <td>Yes</td>\n",
       "      <td>510326</td>\n",
       "    </tr>\n",
       "    <tr>\n",
       "      <th>4</th>\n",
       "      <td>2013-08-30</td>\n",
       "      <td>Debt collection</td>\n",
       "      <td>Credit card</td>\n",
       "      <td>False statements or representation</td>\n",
       "      <td>Resurgent Capital Services L.P.</td>\n",
       "      <td>GA</td>\n",
       "      <td>30106</td>\n",
       "      <td>Web</td>\n",
       "      <td>2013-08-30</td>\n",
       "      <td>Closed with explanation</td>\n",
       "      <td>Yes</td>\n",
       "      <td>Yes</td>\n",
       "      <td>511067</td>\n",
       "    </tr>\n",
       "    <tr>\n",
       "      <th>7</th>\n",
       "      <td>2013-08-30</td>\n",
       "      <td>Bank account or service</td>\n",
       "      <td>Checking account</td>\n",
       "      <td>Deposits and withdrawals</td>\n",
       "      <td>Bank of America</td>\n",
       "      <td>IL</td>\n",
       "      <td>60660</td>\n",
       "      <td>Referral</td>\n",
       "      <td>2013-09-04</td>\n",
       "      <td>Closed with explanation</td>\n",
       "      <td>Yes</td>\n",
       "      <td>No</td>\n",
       "      <td>511116</td>\n",
       "    </tr>\n",
       "  </tbody>\n",
       "</table>\n",
       "</div>"
      ],
      "text/plain": [
       "  date_received                  product               sub_product  \\\n",
       "0    2013-08-30                 Mortgage            Other mortgage   \n",
       "1    2013-08-30                 Mortgage            Other mortgage   \n",
       "3    2013-08-30             Student loan  Non-federal student loan   \n",
       "4    2013-08-30          Debt collection               Credit card   \n",
       "7    2013-08-30  Bank account or service          Checking account   \n",
       "\n",
       "                                      issue                          company  \\\n",
       "0  Loan modification,collection,foreclosure                     U.S. Bancorp   \n",
       "1  Loan servicing, payments, escrow account            Wells Fargo & Company   \n",
       "3                        Repaying your loan          Navient Solutions, Inc.   \n",
       "4        False statements or representation  Resurgent Capital Services L.P.   \n",
       "7                  Deposits and withdrawals                  Bank of America   \n",
       "\n",
       "  state zipcode submitted_via date_sent_to_company  \\\n",
       "0    CA   95993      Referral           2013-09-03   \n",
       "1    CA   91104      Referral           2013-09-03   \n",
       "3    MD   21402         Email           2013-08-30   \n",
       "4    GA   30106           Web           2013-08-30   \n",
       "7    IL   60660      Referral           2013-09-04   \n",
       "\n",
       "  company_response_to_consumer timely_response consumer_disputed?  \\\n",
       "0      Closed with explanation             Yes                Yes   \n",
       "1      Closed with explanation             Yes                Yes   \n",
       "3      Closed with explanation             Yes                Yes   \n",
       "4      Closed with explanation             Yes                Yes   \n",
       "7      Closed with explanation             Yes                 No   \n",
       "\n",
       "   complaint_id  \n",
       "0        511074  \n",
       "1        511080  \n",
       "3        510326  \n",
       "4        511067  \n",
       "7        511116  "
      ]
     },
     "execution_count": 14,
     "metadata": {},
     "output_type": "execute_result"
    }
   ],
   "source": [
    "# Standardize date formats\n",
    "df['date_received'] = pd.to_datetime(df['date_received'])\n",
    "df['date_sent_to_company'] = pd.to_datetime(df['date_sent_to_company'])\n",
    "\n",
    "# check processed data set\n",
    "df.head()\n"
   ]
  },
  {
   "cell_type": "markdown",
   "id": "442f46f4",
   "metadata": {},
   "source": [
    "## Analysis and Visualization: Unveiling Consumer Financial Experiences\n",
    "\n",
    "In this section, I delve into the Consumer Financial Protection Bureau (CFPB) complaints dataset to gain insights into consumer experiences with financial products and services. Through a combination of data analysis and visualization techniques, I aim to uncover trends, identify common issues, and analyze sentiment in consumer narratives."
   ]
  },
  {
   "cell_type": "markdown",
   "id": "b9e495c8",
   "metadata": {},
   "source": [
    "Exploring Complaint Volume Over Time:\n",
    "I will begin by examining the volume of complaints received over time. Through a time series analysis, we visualize the trend in complaint volume to understand the overall activity level and identify any significant changes or patterns over the years.\n",
    "\n",
    "Identifying Common Issues:\n",
    "Next, I will investigate the most frequent issues reported by consumers. By creating a bar chart showcasing the top 10 most common issues, shed light on recurring problems within the financial marketplace, helping stakeholders prioritize areas for improvement.\n",
    "\n",
    "Analyzing Sentiment for the topmost issue:\n",
    "In addition to quantifying complaint volume and identifying common issues, I will analyze the sentiment expressed in the topmost issue. Applying sentiment analysis techniques to the issue allows us to gauge the overall sentiment polarity (positive, negative, or neutral) and gain deeper insights into consumer experiences and perceptions.\n",
    "\n",
    "Visualization Tools:\n",
    "Throughout our analysis, I will leverage visualization tools such as Matplotlib and Seaborn to create visually compelling plots and charts that effectively communicate our findings.\n",
    "\n"
   ]
  },
  {
   "cell_type": "code",
   "execution_count": 18,
   "id": "3cd3e252",
   "metadata": {},
   "outputs": [
    {
     "data": {
      "image/png": "[encoded data removed]",
      "text/plain": [
       "<Figure size 1000x600 with 1 Axes>"
      ]
     },
     "metadata": {},
     "output_type": "display_data"
    }
   ],
   "source": [
    "# Plotting complaint volume over time with a line graph and markers\n",
    "plt.figure(figsize=(10, 6))\n",
    "df['date_received'].dt.year.value_counts().sort_index().plot(kind='line', marker='o', color='red')\n",
    "plt.title('Complaint Volume Over Time')\n",
    "plt.xlabel('Year')\n",
    "plt.ylabel('Number of Complaints')\n",
    "plt.grid(True)  # grid for better readability\n",
    "plt.show()\n"
   ]
  },
  {
   "cell_type": "markdown",
   "id": "ed34ceb9",
   "metadata": {},
   "source": [
    "Trend Analysis of Consumer Complaints (2011-2016)\n",
    "\n",
    "From 2011 to 2016, the volume of consumer complaints showed an interesting pattern, as observed from the data:\n",
    "\n",
    "In 2011, the number of complaints started at a relatively low level, estimated to be around 0.\n",
    "\n",
    "By the following year, 2012, there was a notable increase in complaints, rising sharply to over 5,500.\n",
    "\n",
    "This upward trend continued into 2013, with complaints escalating further to approximately 8,000.\n",
    "\n",
    "The trend persisted in 2014, as complaints surged to around 11,000.\n",
    "\n",
    "However, in 2015, there was a slight increase, with complaints reaching approximately 11,500.\n",
    "\n",
    "Notably, in 2016, there was a significant decrease in the number of complaints, dropping to about 3,000.\n",
    "\n",
    "Insight:\n",
    "The visualization illustrates a consistent upward trajectory in consumer complaints from 2011 to 2015, indicating growing dissatisfaction or issues within the financial marketplace. However, the sharp decline in complaints observed in 2016 suggests a notable shift. It's plausible that financial institutions intensified efforts to address consumer grievances, resulting in the substantial reduction in complaints during this period."
   ]
  },
  {
   "cell_type": "code",
   "execution_count": 19,
   "id": "5c2f4842",
   "metadata": {},
   "outputs": [
    {
     "data": {
      "image/png": "[encoded data removed]",
      "text/plain": [
       "<Figure size 1000x600 with 1 Axes>"
      ]
     },
     "metadata": {},
     "output_type": "display_data"
    }
   ],
   "source": [
    "# Plotting the most frequent issues\n",
    "plt.figure(figsize=(10, 6))\n",
    "top_issues = df['issue'].value_counts().nlargest(10)\n",
    "top_issues.plot(kind='bar')\n",
    "plt.title('Top 10 Most Frequent Issues')\n",
    "plt.xlabel('Issue')\n",
    "plt.ylabel('Number of Complaints')\n",
    "plt.xticks(rotation=45, ha='right')\n",
    "plt.show()\n"
   ]
  },
  {
   "cell_type": "markdown",
   "id": "fe6be5cc",
   "metadata": {},
   "source": [
    "\"Loan modification, collection, and foreclosures\" is the topmost issue, I can focus on analyzing sentiment specifically for complaints related to this issue. "
   ]
  },
  {
   "cell_type": "code",
   "execution_count": 25,
   "id": "769fe27e",
   "metadata": {},
   "outputs": [
    {
     "name": "stderr",
     "output_type": "stream",
     "text": [
      "[nltk_data] Downloading package vader_lexicon to\n",
      "[nltk_data]     C:\\Users\\olape\\AppData\\Roaming\\nltk_data...\n",
      "[nltk_data]   Package vader_lexicon is already up-to-date!\n",
      "C:\\Users\\olape\\AppData\\Local\\Temp\\ipykernel_8068\\2074582710.py:17: SettingWithCopyWarning: \n",
      "A value is trying to be set on a copy of a slice from a DataFrame.\n",
      "Try using .loc[row_indexer,col_indexer] = value instead\n",
      "\n",
      "See the caveats in the documentation: https://pandas.pydata.org/pandas-docs/stable/user_guide/indexing.html#returning-a-view-versus-a-copy\n",
      "  loan_complaints['sentiment'] = loan_complaints['company_response_to_consumer'].apply(calculate_sentiment)\n"
     ]
    },
    {
     "data": {
      "image/png": "[encoded data removed]",
      "text/plain": [
       "<Figure size 800x600 with 1 Axes>"
      ]
     },
     "metadata": {},
     "output_type": "display_data"
    }
   ],
   "source": [
    "import nltk\n",
    "from nltk.sentiment.vader import SentimentIntensityAnalyzer\n",
    "\n",
    "# Initialize the sentiment analyzer\n",
    "nltk.download('vader_lexicon')  # Download the Vader lexicon for sentiment analysis\n",
    "sia = SentimentIntensityAnalyzer()\n",
    "\n",
    "# Filter DataFrame for complaints related to \"Loan modification, collection, and foreclosures\"\n",
    "loan_complaints = df[df['issue'] == 'Loan modification,collection,foreclosure']\n",
    "\n",
    "# Function to calculate sentiment polarity\n",
    "def calculate_sentiment(text):\n",
    "    sentiment_score = sia.polarity_scores(str(text))\n",
    "    return sentiment_score['compound']\n",
    "\n",
    "# Apply sentiment analysis to the filtered complaints\n",
    "loan_complaints['sentiment'] = loan_complaints['company_response_to_consumer'].apply(calculate_sentiment)\n",
    "\n",
    "# Plotting sentiment distribution\n",
    "plt.figure(figsize=(8, 6))\n",
    "sns.histplot(loan_complaints['sentiment'], bins=20, kde=True)\n",
    "plt.title('Sentiment Distribution in \"Loan Modification, Collection, and Foreclosure\" Complaints')\n",
    "plt.xlabel('Sentiment Polarity')\n",
    "plt.ylabel('Frequency')\n",
    "plt.show()\n"
   ]
  },
  {
   "cell_type": "markdown",
   "id": "f3b2983a",
   "metadata": {},
   "source": [
    "The sentiment analysis of complaints related to 'Loan modification, collection, and foreclosures' reveals that the majority of sentiments expressed are neutral, with the highest bar in the sentiment distribution plot centered around 0. This suggests that consumers are generally expressing their concerns or experiences without conveying strong positive or negative emotions. While neutral sentiment predominates, it's important to further analyze the context and content of the complaints to gain a comprehensive understanding of consumer feedback regarding these financial activities."
   ]
  },
  {
   "cell_type": "code",
   "execution_count": 31,
   "id": "f5fe3d5a",
   "metadata": {},
   "outputs": [
    {
     "name": "stdout",
     "output_type": "stream",
     "text": [
      "List of Companies with Total Number of Complaints (from highest to lowest):\n",
      "                                    company  total_complaints\n",
      "0                           Bank of America             48223\n",
      "1                     Wells Fargo & Company             38572\n",
      "2                      JPMorgan Chase & Co.             25682\n",
      "3                                     Ocwen             20816\n",
      "4                       Nationstar Mortgage             13157\n",
      "...                                     ...               ...\n",
      "3063                           Spiriter LLC                 1\n",
      "3064            AMRON PROFESSIONAL SERVICES                 1\n",
      "3065       Hometown Mortgage Services, Inc.                 1\n",
      "3066  Homeowner's Mortgage of America, Inc.                 1\n",
      "3571             Pohler and Associates, LLC                 1\n",
      "\n",
      "[3572 rows x 2 columns]\n",
      "\n",
      "Company with the Most Complaints:\n",
      "company             Bank of America\n",
      "total_complaints              48223\n",
      "Name: 0, dtype: object\n"
     ]
    }
   ],
   "source": [
    "# Calculate the total number of complaints for each company\n",
    "company_complaints_total_sorted = company_complaints_total.sort_values(by='total_complaints', ascending=False)\n",
    "\n",
    "# Display the list of companies with the total number of complaints from highest to lowest\n",
    "print(\"List of Companies with Total Number of Complaints (from highest to lowest):\")\n",
    "print(company_complaints_total_sorted)\n",
    "\n",
    "\n",
    "# Find the company with the most complaints\n",
    "company_with_most_complaints = company_complaints_total.loc[company_complaints_total['total_complaints'].idxmax()]\n",
    "\n",
    "# Display thecompany with the most complaints\n",
    "print(\"\\nCompany with the Most Complaints:\")\n",
    "print(company_with_most_complaints)\n"
   ]
  },
  {
   "cell_type": "markdown",
   "id": "919d6136",
   "metadata": {},
   "source": [
    "The list ranks companies based on total complaints, with Bank of America leading at 48,223 complaints, followed by Wells Fargo & Company with 38,572. JPMorgan Chase & Co. ranks third with 25,682 complaints. Notable mentions include Ocwen with 20,816 complaints and Nationstar Mortgage with 13,157."
   ]
  },
  {
   "cell_type": "code",
   "execution_count": 32,
   "id": "3b594ea9",
   "metadata": {},
   "outputs": [
    {
     "data": {
      "image/png": "[encoded data removed]",
      "text/plain": [
       "<Figure size 1000x600 with 1 Axes>"
      ]
     },
     "metadata": {},
     "output_type": "display_data"
    }
   ],
   "source": [
    "# Filter the list of companies to include only the top 5 with the most complaints\n",
    "top_5_companies = company_complaints_total_sorted.head(5)\n",
    "\n",
    "# Create a bar chart for the distribution of total complaints among the top 5 companies\n",
    "plt.figure(figsize=(10, 6))\n",
    "sns.barplot(x='total_complaints', y='company', data=top_5_companies, palette='viridis')\n",
    "plt.title('Top 5 Companies with the Most Complaints')\n",
    "plt.xlabel('Number of Complaints')\n",
    "plt.ylabel('Company')\n",
    "plt.tight_layout()\n",
    "plt.show()\n"
   ]
  },
  {
   "cell_type": "code",
   "execution_count": 33,
   "id": "51341784",
   "metadata": {},
   "outputs": [
    {
     "data": {
      "image/png": "[encoded data removed]",
      "text/plain": [
       "<Figure size 800x800 with 1 Axes>"
      ]
     },
     "metadata": {},
     "output_type": "display_data"
    }
   ],
   "source": [
    "# Create a pie chart for the distribution of complaints among the top 5 companies\n",
    "plt.figure(figsize=(8, 8))\n",
    "plt.pie(top_5_companies['total_complaints'], labels=top_5_companies['company'], autopct='%1.1f%%', startangle=140, colors=sns.color_palette('viridis', len(top_5_companies)))\n",
    "plt.title('Distribution of Complaints Among Top 5 Companies')\n",
    "plt.axis('equal')  # Equal aspect ratio ensures that pie is drawn as a circle.\n",
    "plt.show()\n"
   ]
  },
  {
   "cell_type": "code",
   "execution_count": 37,
   "id": "4d14763b",
   "metadata": {},
   "outputs": [
    {
     "data": {
      "image/png": "[encoded data removed]",
      "text/plain": [
       "<Figure size 1500x1000 with 5 Axes>"
      ]
     },
     "metadata": {},
     "output_type": "display_data"
    }
   ],
   "source": [
    "# Filter the dataset to include only complaints related to the top 5 companies\n",
    "top_5_company_complaints = df[df['company'].isin(top_5_companies['company'])]\n",
    "\n",
    "# Group the data by company and issue to count the number of complaints for each issue within each company\n",
    "top_5_company_issue_counts = top_5_company_complaints.groupby(['company', 'issue']).size().reset_index(name='complaints_count')\n",
    "\n",
    "# Create subplots for each company to visualize the top issues\n",
    "plt.figure(figsize=(15, 10))\n",
    "\n",
    "for i, company in enumerate(top_5_companies['company']):\n",
    "    plt.subplot(2, 3, i+1)\n",
    "    company_issue_counts = top_5_company_issue_counts[top_5_company_issue_counts['company'] == company]\n",
    "    top_issues = company_issue_counts.nlargest(5, 'complaints_count')\n",
    "    plt.barh(top_issues['issue'], top_issues['complaints_count'], color='red')\n",
    "    plt.title(company)\n",
    "    plt.xlabel('Number of Complaints')\n",
    "    plt.ylabel('Issue')\n",
    "\n",
    "plt.tight_layout()\n",
    "plt.show()\n"
   ]
  },
  {
   "cell_type": "markdown",
   "id": "6cdad77c",
   "metadata": {},
   "source": [
    "The consistent appearance of \"loan modification, collection, and foreclosures\" and \"loan servicing, payments, and escrow account\" as the top two issues across the top 5 companies suggests several insights:\n",
    "\n",
    "Industry-Wide Challenges: The recurrence of these issues across multiple companies indicates that they are pervasive challenges within the financial industry, particularly in sectors such as mortgage lending and servicing. These issues may stem from systemic issues in processes, regulations, or customer communication.\n",
    "\n",
    "Consumer Priorities: The prevalence of these issues suggests that consumers are most concerned about matters related to loan modifications, collections, payments, and escrow accounts. This insight can guide companies in prioritizing their efforts to address these key pain points and improve customer satisfaction."
   ]
  },
  {
   "cell_type": "code",
   "execution_count": 38,
   "id": "9bdde7f9",
   "metadata": {},
   "outputs": [
    {
     "data": {
      "image/png": "[encoded data removed]",
      "text/plain": [
       "<Figure size 1500x500 with 3 Axes>"
      ]
     },
     "metadata": {},
     "output_type": "display_data"
    }
   ],
   "source": [
    "# Count the frequency of different company responses\n",
    "company_responses = df['company_response_to_consumer'].value_counts()\n",
    "\n",
    "# Count the frequency of timely responses\n",
    "timely_responses = df['timely_response'].value_counts()\n",
    "\n",
    "# Count the frequency of consumer disputes\n",
    "consumer_disputes = df['consumer_disputed?'].value_counts()\n",
    "\n",
    "# Visualize the results\n",
    "plt.figure(figsize=(15, 5))\n",
    "\n",
    "# Plot company responses\n",
    "plt.subplot(1, 3, 1)\n",
    "company_responses.plot(kind='bar', color='skyblue')\n",
    "plt.title('Company Response to Consumer')\n",
    "plt.xlabel('Response Type')\n",
    "plt.ylabel('Frequency')\n",
    "\n",
    "# Plot timely responses\n",
    "plt.subplot(1, 3, 2)\n",
    "timely_responses.plot(kind='bar', color='lightgreen')\n",
    "plt.title('Timely Responses')\n",
    "plt.xlabel('Timely Response')\n",
    "plt.ylabel('Frequency')\n",
    "\n",
    "# Plot consumer disputes\n",
    "plt.subplot(1, 3, 3)\n",
    "consumer_disputes.plot(kind='bar', color='salmon')\n",
    "plt.title('Consumer Disputes')\n",
    "plt.xlabel('Consumer Disputed?')\n",
    "plt.ylabel('Frequency')\n",
    "\n",
    "plt.tight_layout()\n",
    "plt.show()\n"
   ]
  },
  {
   "cell_type": "markdown",
   "id": "94208eb2",
   "metadata": {},
   "source": [
    "From the visualization, it appears that the most common company response to consumers is \"Closed with explanation,\" indicating that companies often provide explanations or resolutions to consumer complaints. Additionally, a majority of responses are timely, suggesting that companies strive to address complaints promptly. However, it's notable that a significant portion of consumers do not dispute the resolutions provided by the companies, indicating a level of satisfaction or acceptance with the outcomes.\n",
    "\n",
    "The prevalence of \"Closed with explanation\" as the most common company response implies that many complaints may arise from misunderstandings or miscommunication regarding bank services. By providing explanations, financial institutions aim to clarify misunderstandings and address consumer concerns, suggesting a focus on improving communication and transparency to enhance customer satisfaction."
   ]
  },
  {
   "cell_type": "code",
   "execution_count": 43,
   "id": "e69c2360",
   "metadata": {},
   "outputs": [
    {
     "data": {
      "application/vnd.plotly.v1+json": {
       "config": {
        "plotlyServerURL": "https://plot.ly"
       },
       "data": [
        {
         "coloraxis": "coloraxis",
         "geo": "geo",
         "hovertemplate": "<b>%{hovertext}</b><br><br>state=%{location}<br>complaints=%{z}<extra></extra>",
         "hovertext": [
          "CA",
          "FL",
          "TX",
          "NY",
          "GA",
          "NJ",
          "PA",
          "IL",
          "MD",
          "OH",
          "VA",
          "NC",
          "MI",
          "AZ",
          "WA",
          "MA",
          "CO",
          "TN",
          "MO",
          "SC",
          "OR",
          "NV",
          "MN",
          "CT",
          "IN",
          "WI",
          "AL",
          "LA",
          "KY",
          "OK",
          "DC",
          "NH",
          "UT",
          "DE",
          "KS",
          "MS",
          "NM",
          "AR",
          "IA",
          "RI",
          "HI",
          "ME",
          "ID",
          "NE",
          "WV",
          "PR",
          "VT",
          "MT",
          "SD",
          "AK",
          "WY",
          "ND",
          "AE",
          "AP",
          "VI",
          "GU",
          "FM",
          "MH",
          "AS",
          "MP",
          "AA",
          "PW"
         ],
         "locationmode": "USA-states",
         "locations": [
          "CA",
          "FL",
          "TX",
          "NY",
          "GA",
          "NJ",
          "PA",
          "IL",
          "MD",
          "OH",
          "VA",
          "NC",
          "MI",
          "AZ",
          "WA",
          "MA",
          "CO",
          "TN",
          "MO",
          "SC",
          "OR",
          "NV",
          "MN",
          "CT",
          "IN",
          "WI",
          "AL",
          "LA",
          "KY",
          "OK",
          "DC",
          "NH",
          "UT",
          "DE",
          "KS",
          "MS",
          "NM",
          "AR",
          "IA",
          "RI",
          "HI",
          "ME",
          "ID",
          "NE",
          "WV",
          "PR",
          "VT",
          "MT",
          "SD",
          "AK",
          "WY",
          "ND",
          "AE",
          "AP",
          "VI",
          "GU",
          "FM",
          "MH",
          "AS",
          "MP",
          "AA",
          "PW"
         ],
         "name": "",
         "type": "choropleth",
         "z": [
          60657,
          39132,
          26019,
          25919,
          18320,
          16656,
          14443,
          13962,
          13153,
          12606,
          12335,
          11041,
          11024,
          9066,
          8440,
          8005,
          6728,
          6140,
          5405,
          4934,
          4862,
          4736,
          4717,
          4608,
          4373,
          4334,
          3987,
          3874,
          2812,
          2555,
          2272,
          2179,
          2148,
          2076,
          1885,
          1838,
          1823,
          1636,
          1504,
          1387,
          1385,
          1370,
          1336,
          1267,
          953,
          692,
          674,
          602,
          520,
          420,
          368,
          294,
          148,
          105,
          92,
          48,
          22,
          20,
          12,
          11,
          7,
          5
         ]
        }
       ],
       "layout": {
        "coloraxis": {
         "colorbar": {
          "title": {
           "text": "complaints"
          }
         },
         "colorscale": [
          [
           0,
           "rgb(247,251,255)"
          ],
          [
           0.125,
           "rgb(222,235,247)"
          ],
          [
           0.25,
           "rgb(198,219,239)"
          ],
          [
           0.375,
           "rgb(158,202,225)"
          ],
          [
           0.5,
           "rgb(107,174,214)"
          ],
          [
           0.625,
           "rgb(66,146,198)"
          ],
          [
           0.75,
           "rgb(33,113,181)"
          ],
          [
           0.875,
           "rgb(8,81,156)"
          ],
          [
           1,
           "rgb(8,48,107)"
          ]
         ]
        },
        "geo": {
         "center": {},
         "domain": {
          "x": [
           0,
           1
          ],
          "y": [
           0,
           1
          ]
         },
         "scope": "usa"
        },
        "legend": {
         "tracegroupgap": 0
        },
        "template": {
         "data": {
          "bar": [
           {
            "error_x": {
             "color": "#2a3f5f"
            },
            "error_y": {
             "color": "#2a3f5f"
            },
            "marker": {
             "line": {
              "color": "#E5ECF6",
              "width": 0.5
             },
             "pattern": {
              "fillmode": "overlay",
              "size": 10,
              "solidity": 0.2
             }
            },
            "type": "bar"
           }
          ],
          "barpolar": [
           {
            "marker": {
             "line": {
              "color": "#E5ECF6",
              "width": 0.5
             },
             "pattern": {
              "fillmode": "overlay",
              "size": 10,
              "solidity": 0.2
             }
            },
            "type": "barpolar"
           }
          ],
          "carpet": [
           {
            "aaxis": {
             "endlinecolor": "#2a3f5f",
             "gridcolor": "white",
             "linecolor": "white",
             "minorgridcolor": "white",
             "startlinecolor": "#2a3f5f"
            },
            "baxis": {
             "endlinecolor": "#2a3f5f",
             "gridcolor": "white",
             "linecolor": "white",
             "minorgridcolor": "white",
             "startlinecolor": "#2a3f5f"
            },
            "type": "carpet"
           }
          ],
          "choropleth": [
           {
            "colorbar": {
             "outlinewidth": 0,
             "ticks": ""
            },
            "type": "choropleth"
           }
          ],
          "contour": [
           {
            "colorbar": {
             "outlinewidth": 0,
             "ticks": ""
            },
            "colorscale": [
             [
              0,
              "#0d0887"
             ],
             [
              0.1111111111111111,
              "#46039f"
             ],
             [
              0.2222222222222222,
              "#7201a8"
             ],
             [
              0.3333333333333333,
              "#9c179e"
             ],
             [
              0.4444444444444444,
              "#bd3786"
             ],
             [
              0.5555555555555556,
              "#d8576b"
             ],
             [
              0.6666666666666666,
              "#ed7953"
             ],
             [
              0.7777777777777778,
              "#fb9f3a"
             ],
             [
              0.8888888888888888,
              "#fdca26"
             ],
             [
              1,
              "#f0f921"
             ]
            ],
            "type": "contour"
           }
          ],
          "contourcarpet": [
           {
            "colorbar": {
             "outlinewidth": 0,
             "ticks": ""
            },
            "type": "contourcarpet"
           }
          ],
          "heatmap": [
           {
            "colorbar": {
             "outlinewidth": 0,
             "ticks": ""
            },
            "colorscale": [
             [
              0,
              "#0d0887"
             ],
             [
              0.1111111111111111,
              "#46039f"
             ],
             [
              0.2222222222222222,
              "#7201a8"
             ],
             [
              0.3333333333333333,
              "#9c179e"
             ],
             [
              0.4444444444444444,
              "#bd3786"
             ],
             [
              0.5555555555555556,
              "#d8576b"
             ],
             [
              0.6666666666666666,
              "#ed7953"
             ],
             [
              0.7777777777777778,
              "#fb9f3a"
             ],
             [
              0.8888888888888888,
              "#fdca26"
             ],
             [
              1,
              "#f0f921"
             ]
            ],
            "type": "heatmap"
           }
          ],
          "heatmapgl": [
           {
            "colorbar": {
             "outlinewidth": 0,
             "ticks": ""
            },
            "colorscale": [
             [
              0,
              "#0d0887"
             ],
             [
              0.1111111111111111,
              "#46039f"
             ],
             [
              0.2222222222222222,
              "#7201a8"
             ],
             [
              0.3333333333333333,
              "#9c179e"
             ],
             [
              0.4444444444444444,
              "#bd3786"
             ],
             [
              0.5555555555555556,
              "#d8576b"
             ],
             [
              0.6666666666666666,
              "#ed7953"
             ],
             [
              0.7777777777777778,
              "#fb9f3a"
             ],
             [
              0.8888888888888888,
              "#fdca26"
             ],
             [
              1,
              "#f0f921"
             ]
            ],
            "type": "heatmapgl"
           }
          ],
          "histogram": [
           {
            "marker": {
             "pattern": {
              "fillmode": "overlay",
              "size": 10,
              "solidity": 0.2
             }
            },
            "type": "histogram"
           }
          ],
          "histogram2d": [
           {
            "colorbar": {
             "outlinewidth": 0,
             "ticks": ""
            },
            "colorscale": [
             [
              0,
              "#0d0887"
             ],
             [
              0.1111111111111111,
              "#46039f"
             ],
             [
              0.2222222222222222,
              "#7201a8"
             ],
             [
              0.3333333333333333,
              "#9c179e"
             ],
             [
              0.4444444444444444,
              "#bd3786"
             ],
             [
              0.5555555555555556,
              "#d8576b"
             ],
             [
              0.6666666666666666,
              "#ed7953"
             ],
             [
              0.7777777777777778,
              "#fb9f3a"
             ],
             [
              0.8888888888888888,
              "#fdca26"
             ],
             [
              1,
              "#f0f921"
             ]
            ],
            "type": "histogram2d"
           }
          ],
          "histogram2dcontour": [
           {
            "colorbar": {
             "outlinewidth": 0,
             "ticks": ""
            },
            "colorscale": [
             [
              0,
              "#0d0887"
             ],
             [
              0.1111111111111111,
              "#46039f"
             ],
             [
              0.2222222222222222,
              "#7201a8"
             ],
             [
              0.3333333333333333,
              "#9c179e"
             ],
             [
              0.4444444444444444,
              "#bd3786"
             ],
             [
              0.5555555555555556,
              "#d8576b"
             ],
             [
              0.6666666666666666,
              "#ed7953"
             ],
             [
              0.7777777777777778,
              "#fb9f3a"
             ],
             [
              0.8888888888888888,
              "#fdca26"
             ],
             [
              1,
              "#f0f921"
             ]
            ],
            "type": "histogram2dcontour"
           }
          ],
          "mesh3d": [
           {
            "colorbar": {
             "outlinewidth": 0,
             "ticks": ""
            },
            "type": "mesh3d"
           }
          ],
          "parcoords": [
           {
            "line": {
             "colorbar": {
              "outlinewidth": 0,
              "ticks": ""
             }
            },
            "type": "parcoords"
           }
          ],
          "pie": [
           {
            "automargin": true,
            "type": "pie"
           }
          ],
          "scatter": [
           {
            "fillpattern": {
             "fillmode": "overlay",
             "size": 10,
             "solidity": 0.2
            },
            "type": "scatter"
           }
          ],
          "scatter3d": [
           {
            "line": {
             "colorbar": {
              "outlinewidth": 0,
              "ticks": ""
             }
            },
            "marker": {
             "colorbar": {
              "outlinewidth": 0,
              "ticks": ""
             }
            },
            "type": "scatter3d"
           }
          ],
          "scattercarpet": [
           {
            "marker": {
             "colorbar": {
              "outlinewidth": 0,
              "ticks": ""
             }
            },
            "type": "scattercarpet"
           }
          ],
          "scattergeo": [
           {
            "marker": {
             "colorbar": {
              "outlinewidth": 0,
              "ticks": ""
             }
            },
            "type": "scattergeo"
           }
          ],
          "scattergl": [
           {
            "marker": {
             "colorbar": {
              "outlinewidth": 0,
              "ticks": ""
             }
            },
            "type": "scattergl"
           }
          ],
          "scattermapbox": [
           {
            "marker": {
             "colorbar": {
              "outlinewidth": 0,
              "ticks": ""
             }
            },
            "type": "scattermapbox"
           }
          ],
          "scatterpolar": [
           {
            "marker": {
             "colorbar": {
              "outlinewidth": 0,
              "ticks": ""
             }
            },
            "type": "scatterpolar"
           }
          ],
          "scatterpolargl": [
           {
            "marker": {
             "colorbar": {
              "outlinewidth": 0,
              "ticks": ""
             }
            },
            "type": "scatterpolargl"
           }
          ],
          "scatterternary": [
           {
            "marker": {
             "colorbar": {
              "outlinewidth": 0,
              "ticks": ""
             }
            },
            "type": "scatterternary"
           }
          ],
          "surface": [
           {
            "colorbar": {
             "outlinewidth": 0,
             "ticks": ""
            },
            "colorscale": [
             [
              0,
              "#0d0887"
             ],
             [
              0.1111111111111111,
              "#46039f"
             ],
             [
              0.2222222222222222,
              "#7201a8"
             ],
             [
              0.3333333333333333,
              "#9c179e"
             ],
             [
              0.4444444444444444,
              "#bd3786"
             ],
             [
              0.5555555555555556,
              "#d8576b"
             ],
             [
              0.6666666666666666,
              "#ed7953"
             ],
             [
              0.7777777777777778,
              "#fb9f3a"
             ],
             [
              0.8888888888888888,
              "#fdca26"
             ],
             [
              1,
              "#f0f921"
             ]
            ],
            "type": "surface"
           }
          ],
          "table": [
           {
            "cells": {
             "fill": {
              "color": "#EBF0F8"
             },
             "line": {
              "color": "white"
             }
            },
            "header": {
             "fill": {
              "color": "#C8D4E3"
             },
             "line": {
              "color": "white"
             }
            },
            "type": "table"
           }
          ]
         },
         "layout": {
          "annotationdefaults": {
           "arrowcolor": "#2a3f5f",
           "arrowhead": 0,
           "arrowwidth": 1
          },
          "autotypenumbers": "strict",
          "coloraxis": {
           "colorbar": {
            "outlinewidth": 0,
            "ticks": ""
           }
          },
          "colorscale": {
           "diverging": [
            [
             0,
             "#8e0152"
            ],
            [
             0.1,
             "#c51b7d"
            ],
            [
             0.2,
             "#de77ae"
            ],
            [
             0.3,
             "#f1b6da"
            ],
            [
             0.4,
             "#fde0ef"
            ],
            [
             0.5,
             "#f7f7f7"
            ],
            [
             0.6,
             "#e6f5d0"
            ],
            [
             0.7,
             "#b8e186"
            ],
            [
             0.8,
             "#7fbc41"
            ],
            [
             0.9,
             "#4d9221"
            ],
            [
             1,
             "#276419"
            ]
           ],
           "sequential": [
            [
             0,
             "#0d0887"
            ],
            [
             0.1111111111111111,
             "#46039f"
            ],
            [
             0.2222222222222222,
             "#7201a8"
            ],
            [
             0.3333333333333333,
             "#9c179e"
            ],
            [
             0.4444444444444444,
             "#bd3786"
            ],
            [
             0.5555555555555556,
             "#d8576b"
            ],
            [
             0.6666666666666666,
             "#ed7953"
            ],
            [
             0.7777777777777778,
             "#fb9f3a"
            ],
            [
             0.8888888888888888,
             "#fdca26"
            ],
            [
             1,
             "#f0f921"
            ]
           ],
           "sequentialminus": [
            [
             0,
             "#0d0887"
            ],
            [
             0.1111111111111111,
             "#46039f"
            ],
            [
             0.2222222222222222,
             "#7201a8"
            ],
            [
             0.3333333333333333,
             "#9c179e"
            ],
            [
             0.4444444444444444,
             "#bd3786"
            ],
            [
             0.5555555555555556,
             "#d8576b"
            ],
            [
             0.6666666666666666,
             "#ed7953"
            ],
            [
             0.7777777777777778,
             "#fb9f3a"
            ],
            [
             0.8888888888888888,
             "#fdca26"
            ],
            [
             1,
             "#f0f921"
            ]
           ]
          },
          "colorway": [
           "#636efa",
           "#EF553B",
           "#00cc96",
           "#ab63fa",
           "#FFA15A",
           "#19d3f3",
           "#FF6692",
           "#B6E880",
           "#FF97FF",
           "#FECB52"
          ],
          "font": {
           "color": "#2a3f5f"
          },
          "geo": {
           "bgcolor": "white",
           "lakecolor": "white",
           "landcolor": "#E5ECF6",
           "showlakes": true,
           "showland": true,
           "subunitcolor": "white"
          },
          "hoverlabel": {
           "align": "left"
          },
          "hovermode": "closest",
          "mapbox": {
           "style": "light"
          },
          "paper_bgcolor": "white",
          "plot_bgcolor": "#E5ECF6",
          "polar": {
           "angularaxis": {
            "gridcolor": "white",
            "linecolor": "white",
            "ticks": ""
           },
           "bgcolor": "#E5ECF6",
           "radialaxis": {
            "gridcolor": "white",
            "linecolor": "white",
            "ticks": ""
           }
          },
          "scene": {
           "xaxis": {
            "backgroundcolor": "#E5ECF6",
            "gridcolor": "white",
            "gridwidth": 2,
            "linecolor": "white",
            "showbackground": true,
            "ticks": "",
            "zerolinecolor": "white"
           },
           "yaxis": {
            "backgroundcolor": "#E5ECF6",
            "gridcolor": "white",
            "gridwidth": 2,
            "linecolor": "white",
            "showbackground": true,
            "ticks": "",
            "zerolinecolor": "white"
           },
           "zaxis": {
            "backgroundcolor": "#E5ECF6",
            "gridcolor": "white",
            "gridwidth": 2,
            "linecolor": "white",
            "showbackground": true,
            "ticks": "",
            "zerolinecolor": "white"
           }
          },
          "shapedefaults": {
           "line": {
            "color": "#2a3f5f"
           }
          },
          "ternary": {
           "aaxis": {
            "gridcolor": "white",
            "linecolor": "white",
            "ticks": ""
           },
           "baxis": {
            "gridcolor": "white",
            "linecolor": "white",
            "ticks": ""
           },
           "bgcolor": "#E5ECF6",
           "caxis": {
            "gridcolor": "white",
            "linecolor": "white",
            "ticks": ""
           }
          },
          "title": {
           "x": 0.05
          },
          "xaxis": {
           "automargin": true,
           "gridcolor": "white",
           "linecolor": "white",
           "ticks": "",
           "title": {
            "standoff": 15
           },
           "zerolinecolor": "white",
           "zerolinewidth": 2
          },
          "yaxis": {
           "automargin": true,
           "gridcolor": "white",
           "linecolor": "white",
           "ticks": "",
           "title": {
            "standoff": 15
           },
           "zerolinecolor": "white",
           "zerolinewidth": 2
          }
         }
        },
        "title": {
         "text": "Distribution of Complaints Across States"
        }
       }
      },
      "text/html": [
       "<div>                            <div id=\"9eda6844-e3b9-4092-9c5c-e718bb80520f\" class=\"plotly-graph-div\" style=\"height:525px; width:100%;\"></div>            <script type=\"text/javascript\">                require([\"plotly\"], function(Plotly) {                    window.PLOTLYENV=window.PLOTLYENV || {};                                    if (document.getElementById(\"9eda6844-e3b9-4092-9c5c-e718bb80520f\")) {                    Plotly.newPlot(                        \"9eda6844-e3b9-4092-9c5c-e718bb80520f\",                        [{\"coloraxis\":\"coloraxis\",\"geo\":\"geo\",\"hovertemplate\":\"<b>%{hovertext}</b><br><br>state=%{location}<br>complaints=%{z}<extra></extra>\",\"hovertext\":[\"CA\",\"FL\",\"TX\",\"NY\",\"GA\",\"NJ\",\"PA\",\"IL\",\"MD\",\"OH\",\"VA\",\"NC\",\"MI\",\"AZ\",\"WA\",\"MA\",\"CO\",\"TN\",\"MO\",\"SC\",\"OR\",\"NV\",\"MN\",\"CT\",\"IN\",\"WI\",\"AL\",\"LA\",\"KY\",\"OK\",\"DC\",\"NH\",\"UT\",\"DE\",\"KS\",\"MS\",\"NM\",\"AR\",\"IA\",\"RI\",\"HI\",\"ME\",\"ID\",\"NE\",\"WV\",\"PR\",\"VT\",\"MT\",\"SD\",\"AK\",\"WY\",\"ND\",\"AE\",\"AP\",\"VI\",\"GU\",\"FM\",\"MH\",\"AS\",\"MP\",\"AA\",\"PW\"],\"locationmode\":\"USA-states\",\"locations\":[\"CA\",\"FL\",\"TX\",\"NY\",\"GA\",\"NJ\",\"PA\",\"IL\",\"MD\",\"OH\",\"VA\",\"NC\",\"MI\",\"AZ\",\"WA\",\"MA\",\"CO\",\"TN\",\"MO\",\"SC\",\"OR\",\"NV\",\"MN\",\"CT\",\"IN\",\"WI\",\"AL\",\"LA\",\"KY\",\"OK\",\"DC\",\"NH\",\"UT\",\"DE\",\"KS\",\"MS\",\"NM\",\"AR\",\"IA\",\"RI\",\"HI\",\"ME\",\"ID\",\"NE\",\"WV\",\"PR\",\"VT\",\"MT\",\"SD\",\"AK\",\"WY\",\"ND\",\"AE\",\"AP\",\"VI\",\"GU\",\"FM\",\"MH\",\"AS\",\"MP\",\"AA\",\"PW\"],\"name\":\"\",\"z\":[60657,39132,26019,25919,18320,16656,14443,13962,13153,12606,12335,11041,11024,9066,8440,8005,6728,6140,5405,4934,4862,4736,4717,4608,4373,4334,3987,3874,2812,2555,2272,2179,2148,2076,1885,1838,1823,1636,1504,1387,1385,1370,1336,1267,953,692,674,602,520,420,368,294,148,105,92,48,22,20,12,11,7,5],\"type\":\"choropleth\"}],                        {\"template\":{\"data\":{\"histogram2dcontour\":[{\"type\":\"histogram2dcontour\",\"colorbar\":{\"outlinewidth\":0,\"ticks\":\"\"},\"colorscale\":[[0.0,\"#0d0887\"],[0.1111111111111111,\"#46039f\"],[0.2222222222222222,\"#7201a8\"],[0.3333333333333333,\"#9c179e\"],[0.4444444444444444,\"#bd3786\"],[0.5555555555555556,\"#d8576b\"],[0.6666666666666666,\"#ed7953\"],[0.7777777777777778,\"#fb9f3a\"],[0.8888888888888888,\"#fdca26\"],[1.0,\"#f0f921\"]]}],\"choropleth\":[{\"type\":\"choropleth\",\"colorbar\":{\"outlinewidth\":0,\"ticks\":\"\"}}],\"histogram2d\":[{\"type\":\"histogram2d\",\"colorbar\":{\"outlinewidth\":0,\"ticks\":\"\"},\"colorscale\":[[0.0,\"#0d0887\"],[0.1111111111111111,\"#46039f\"],[0.2222222222222222,\"#7201a8\"],[0.3333333333333333,\"#9c179e\"],[0.4444444444444444,\"#bd3786\"],[0.5555555555555556,\"#d8576b\"],[0.6666666666666666,\"#ed7953\"],[0.7777777777777778,\"#fb9f3a\"],[0.8888888888888888,\"#fdca26\"],[1.0,\"#f0f921\"]]}],\"heatmap\":[{\"type\":\"heatmap\",\"colorbar\":{\"outlinewidth\":0,\"ticks\":\"\"},\"colorscale\":[[0.0,\"#0d0887\"],[0.1111111111111111,\"#46039f\"],[0.2222222222222222,\"#7201a8\"],[0.3333333333333333,\"#9c179e\"],[0.4444444444444444,\"#bd3786\"],[0.5555555555555556,\"#d8576b\"],[0.6666666666666666,\"#ed7953\"],[0.7777777777777778,\"#fb9f3a\"],[0.8888888888888888,\"#fdca26\"],[1.0,\"#f0f921\"]]}],\"heatmapgl\":[{\"type\":\"heatmapgl\",\"colorbar\":{\"outlinewidth\":0,\"ticks\":\"\"},\"colorscale\":[[0.0,\"#0d0887\"],[0.1111111111111111,\"#46039f\"],[0.2222222222222222,\"#7201a8\"],[0.3333333333333333,\"#9c179e\"],[0.4444444444444444,\"#bd3786\"],[0.5555555555555556,\"#d8576b\"],[0.6666666666666666,\"#ed7953\"],[0.7777777777777778,\"#fb9f3a\"],[0.8888888888888888,\"#fdca26\"],[1.0,\"#f0f921\"]]}],\"contourcarpet\":[{\"type\":\"contourcarpet\",\"colorbar\":{\"outlinewidth\":0,\"ticks\":\"\"}}],\"contour\":[{\"type\":\"contour\",\"colorbar\":{\"outlinewidth\":0,\"ticks\":\"\"},\"colorscale\":[[0.0,\"#0d0887\"],[0.1111111111111111,\"#46039f\"],[0.2222222222222222,\"#7201a8\"],[0.3333333333333333,\"#9c179e\"],[0.4444444444444444,\"#bd3786\"],[0.5555555555555556,\"#d8576b\"],[0.6666666666666666,\"#ed7953\"],[0.7777777777777778,\"#fb9f3a\"],[0.8888888888888888,\"#fdca26\"],[1.0,\"#f0f921\"]]}],\"surface\":[{\"type\":\"surface\",\"colorbar\":{\"outlinewidth\":0,\"ticks\":\"\"},\"colorscale\":[[0.0,\"#0d0887\"],[0.1111111111111111,\"#46039f\"],[0.2222222222222222,\"#7201a8\"],[0.3333333333333333,\"#9c179e\"],[0.4444444444444444,\"#bd3786\"],[0.5555555555555556,\"#d8576b\"],[0.6666666666666666,\"#ed7953\"],[0.7777777777777778,\"#fb9f3a\"],[0.8888888888888888,\"#fdca26\"],[1.0,\"#f0f921\"]]}],\"mesh3d\":[{\"type\":\"mesh3d\",\"colorbar\":{\"outlinewidth\":0,\"ticks\":\"\"}}],\"scatter\":[{\"fillpattern\":{\"fillmode\":\"overlay\",\"size\":10,\"solidity\":0.2},\"type\":\"scatter\"}],\"parcoords\":[{\"type\":\"parcoords\",\"line\":{\"colorbar\":{\"outlinewidth\":0,\"ticks\":\"\"}}}],\"scatterpolargl\":[{\"type\":\"scatterpolargl\",\"marker\":{\"colorbar\":{\"outlinewidth\":0,\"ticks\":\"\"}}}],\"bar\":[{\"error_x\":{\"color\":\"#2a3f5f\"},\"error_y\":{\"color\":\"#2a3f5f\"},\"marker\":{\"line\":{\"color\":\"#E5ECF6\",\"width\":0.5},\"pattern\":{\"fillmode\":\"overlay\",\"size\":10,\"solidity\":0.2}},\"type\":\"bar\"}],\"scattergeo\":[{\"type\":\"scattergeo\",\"marker\":{\"colorbar\":{\"outlinewidth\":0,\"ticks\":\"\"}}}],\"scatterpolar\":[{\"type\":\"scatterpolar\",\"marker\":{\"colorbar\":{\"outlinewidth\":0,\"ticks\":\"\"}}}],\"histogram\":[{\"marker\":{\"pattern\":{\"fillmode\":\"overlay\",\"size\":10,\"solidity\":0.2}},\"type\":\"histogram\"}],\"scattergl\":[{\"type\":\"scattergl\",\"marker\":{\"colorbar\":{\"outlinewidth\":0,\"ticks\":\"\"}}}],\"scatter3d\":[{\"type\":\"scatter3d\",\"line\":{\"colorbar\":{\"outlinewidth\":0,\"ticks\":\"\"}},\"marker\":{\"colorbar\":{\"outlinewidth\":0,\"ticks\":\"\"}}}],\"scattermapbox\":[{\"type\":\"scattermapbox\",\"marker\":{\"colorbar\":{\"outlinewidth\":0,\"ticks\":\"\"}}}],\"scatterternary\":[{\"type\":\"scatterternary\",\"marker\":{\"colorbar\":{\"outlinewidth\":0,\"ticks\":\"\"}}}],\"scattercarpet\":[{\"type\":\"scattercarpet\",\"marker\":{\"colorbar\":{\"outlinewidth\":0,\"ticks\":\"\"}}}],\"carpet\":[{\"aaxis\":{\"endlinecolor\":\"#2a3f5f\",\"gridcolor\":\"white\",\"linecolor\":\"white\",\"minorgridcolor\":\"white\",\"startlinecolor\":\"#2a3f5f\"},\"baxis\":{\"endlinecolor\":\"#2a3f5f\",\"gridcolor\":\"white\",\"linecolor\":\"white\",\"minorgridcolor\":\"white\",\"startlinecolor\":\"#2a3f5f\"},\"type\":\"carpet\"}],\"table\":[{\"cells\":{\"fill\":{\"color\":\"#EBF0F8\"},\"line\":{\"color\":\"white\"}},\"header\":{\"fill\":{\"color\":\"#C8D4E3\"},\"line\":{\"color\":\"white\"}},\"type\":\"table\"}],\"barpolar\":[{\"marker\":{\"line\":{\"color\":\"#E5ECF6\",\"width\":0.5},\"pattern\":{\"fillmode\":\"overlay\",\"size\":10,\"solidity\":0.2}},\"type\":\"barpolar\"}],\"pie\":[{\"automargin\":true,\"type\":\"pie\"}]},\"layout\":{\"autotypenumbers\":\"strict\",\"colorway\":[\"#636efa\",\"#EF553B\",\"#00cc96\",\"#ab63fa\",\"#FFA15A\",\"#19d3f3\",\"#FF6692\",\"#B6E880\",\"#FF97FF\",\"#FECB52\"],\"font\":{\"color\":\"#2a3f5f\"},\"hovermode\":\"closest\",\"hoverlabel\":{\"align\":\"left\"},\"paper_bgcolor\":\"white\",\"plot_bgcolor\":\"#E5ECF6\",\"polar\":{\"bgcolor\":\"#E5ECF6\",\"angularaxis\":{\"gridcolor\":\"white\",\"linecolor\":\"white\",\"ticks\":\"\"},\"radialaxis\":{\"gridcolor\":\"white\",\"linecolor\":\"white\",\"ticks\":\"\"}},\"ternary\":{\"bgcolor\":\"#E5ECF6\",\"aaxis\":{\"gridcolor\":\"white\",\"linecolor\":\"white\",\"ticks\":\"\"},\"baxis\":{\"gridcolor\":\"white\",\"linecolor\":\"white\",\"ticks\":\"\"},\"caxis\":{\"gridcolor\":\"white\",\"linecolor\":\"white\",\"ticks\":\"\"}},\"coloraxis\":{\"colorbar\":{\"outlinewidth\":0,\"ticks\":\"\"}},\"colorscale\":{\"sequential\":[[0.0,\"#0d0887\"],[0.1111111111111111,\"#46039f\"],[0.2222222222222222,\"#7201a8\"],[0.3333333333333333,\"#9c179e\"],[0.4444444444444444,\"#bd3786\"],[0.5555555555555556,\"#d8576b\"],[0.6666666666666666,\"#ed7953\"],[0.7777777777777778,\"#fb9f3a\"],[0.8888888888888888,\"#fdca26\"],[1.0,\"#f0f921\"]],\"sequentialminus\":[[0.0,\"#0d0887\"],[0.1111111111111111,\"#46039f\"],[0.2222222222222222,\"#7201a8\"],[0.3333333333333333,\"#9c179e\"],[0.4444444444444444,\"#bd3786\"],[0.5555555555555556,\"#d8576b\"],[0.6666666666666666,\"#ed7953\"],[0.7777777777777778,\"#fb9f3a\"],[0.8888888888888888,\"#fdca26\"],[1.0,\"#f0f921\"]],\"diverging\":[[0,\"#8e0152\"],[0.1,\"#c51b7d\"],[0.2,\"#de77ae\"],[0.3,\"#f1b6da\"],[0.4,\"#fde0ef\"],[0.5,\"#f7f7f7\"],[0.6,\"#e6f5d0\"],[0.7,\"#b8e186\"],[0.8,\"#7fbc41\"],[0.9,\"#4d9221\"],[1,\"#276419\"]]},\"xaxis\":{\"gridcolor\":\"white\",\"linecolor\":\"white\",\"ticks\":\"\",\"title\":{\"standoff\":15},\"zerolinecolor\":\"white\",\"automargin\":true,\"zerolinewidth\":2},\"yaxis\":{\"gridcolor\":\"white\",\"linecolor\":\"white\",\"ticks\":\"\",\"title\":{\"standoff\":15},\"zerolinecolor\":\"white\",\"automargin\":true,\"zerolinewidth\":2},\"scene\":{\"xaxis\":{\"backgroundcolor\":\"#E5ECF6\",\"gridcolor\":\"white\",\"linecolor\":\"white\",\"showbackground\":true,\"ticks\":\"\",\"zerolinecolor\":\"white\",\"gridwidth\":2},\"yaxis\":{\"backgroundcolor\":\"#E5ECF6\",\"gridcolor\":\"white\",\"linecolor\":\"white\",\"showbackground\":true,\"ticks\":\"\",\"zerolinecolor\":\"white\",\"gridwidth\":2},\"zaxis\":{\"backgroundcolor\":\"#E5ECF6\",\"gridcolor\":\"white\",\"linecolor\":\"white\",\"showbackground\":true,\"ticks\":\"\",\"zerolinecolor\":\"white\",\"gridwidth\":2}},\"shapedefaults\":{\"line\":{\"color\":\"#2a3f5f\"}},\"annotationdefaults\":{\"arrowcolor\":\"#2a3f5f\",\"arrowhead\":0,\"arrowwidth\":1},\"geo\":{\"bgcolor\":\"white\",\"landcolor\":\"#E5ECF6\",\"subunitcolor\":\"white\",\"showland\":true,\"showlakes\":true,\"lakecolor\":\"white\"},\"title\":{\"x\":0.05},\"mapbox\":{\"style\":\"light\"}}},\"geo\":{\"domain\":{\"x\":[0.0,1.0],\"y\":[0.0,1.0]},\"center\":{},\"scope\":\"usa\"},\"coloraxis\":{\"colorbar\":{\"title\":{\"text\":\"complaints\"}},\"colorscale\":[[0.0,\"rgb(247,251,255)\"],[0.125,\"rgb(222,235,247)\"],[0.25,\"rgb(198,219,239)\"],[0.375,\"rgb(158,202,225)\"],[0.5,\"rgb(107,174,214)\"],[0.625,\"rgb(66,146,198)\"],[0.75,\"rgb(33,113,181)\"],[0.875,\"rgb(8,81,156)\"],[1.0,\"rgb(8,48,107)\"]]},\"legend\":{\"tracegroupgap\":0},\"title\":{\"text\":\"Distribution of Complaints Across States\"}},                        {\"responsive\": true}                    ).then(function(){\n",
       "                            \n",
       "var gd = document.getElementById('9eda6844-e3b9-4092-9c5c-e718bb80520f');\n",
       "var x = new MutationObserver(function (mutations, observer) {{\n",
       "        var display = window.getComputedStyle(gd).display;\n",
       "        if (!display || display === 'none') {{\n",
       "            console.log([gd, 'removed!']);\n",
       "            Plotly.purge(gd);\n",
       "            observer.disconnect();\n",
       "        }}\n",
       "}});\n",
       "\n",
       "// Listen for the removal of the full notebook cells\n",
       "var notebookContainer = gd.closest('#notebook-container');\n",
       "if (notebookContainer) {{\n",
       "    x.observe(notebookContainer, {childList: true});\n",
       "}}\n",
       "\n",
       "// Listen for the clearing of the current output cell\n",
       "var outputEl = gd.closest('.output');\n",
       "if (outputEl) {{\n",
       "    x.observe(outputEl, {childList: true});\n",
       "}}\n",
       "\n",
       "                        })                };                });            </script>        </div>"
      ]
     },
     "metadata": {},
     "output_type": "display_data"
    },
    {
     "data": {
      "application/vnd.plotly.v1+json": {
       "config": {
        "plotlyServerURL": "https://plot.ly"
       },
       "data": [
        {
         "branchvalues": "total",
         "domain": {
          "x": [
           0,
           1
          ],
          "y": [
           0,
           1
          ]
         },
         "hovertemplate": "labels=%{label}<br>complaints=%{value}<br>parent=%{parent}<br>id=%{id}<extra></extra>",
         "ids": [
          "Bank account or service/(CD) Certificate of deposit",
          "Debt collection/Auto",
          "Bank account or service/Cashing a check without an account",
          "Other financial service/Check cashing",
          "Bank account or service/Checking account",
          "Mortgage/Conventional adjustable mortgage (ARM)",
          "Mortgage/Conventional fixed mortgage",
          "Debt collection/Credit card",
          "Other financial service/Credit repair",
          "Other financial service/Debt settlement",
          "Money transfers/Domestic (US) money transfer",
          "Prepaid card/Electronic Benefit Transfer / EBT card",
          "Mortgage/FHA mortgage",
          "Debt collection/Federal student loan",
          "Other financial service/Foreign currency exchange",
          "Prepaid card/General purpose card",
          "Prepaid card/Gift or merchant card",
          "Prepaid card/Government benefit payment card",
          "Mortgage/Home equity loan or line of credit",
          "Debt collection/I do not know",
          "Prepaid card/ID prepaid card",
          "Consumer Loan/Installment loan",
          "Money transfers/International money transfer",
          "Debt collection/Medical",
          "Prepaid card/Mobile wallet",
          "Other financial service/Money order",
          "Debt collection/Mortgage",
          "Debt collection/Non-federal student loan",
          "Student loan/Non-federal student loan",
          "Debt collection/Other (i.e. phone, health club, etc.)",
          "Bank account or service/Other bank product/service",
          "Mortgage/Other mortgage",
          "Prepaid card/Other special purpose card",
          "Consumer Loan/Pawn loan",
          "Debt collection/Payday loan",
          "Payday loan/Payday loan",
          "Prepaid card/Payroll card",
          "Consumer Loan/Personal line of credit",
          "Other financial service/Refund anticipation check",
          "Mortgage/Reverse mortgage",
          "Bank account or service/Savings account",
          "Mortgage/Second mortgage",
          "Consumer Loan/Title loan",
          "Prepaid card/Transit card",
          "Other financial service/Travelerâs/Cashierâs checks",
          "Mortgage/VA mortgage",
          "Consumer Loan/Vehicle lease",
          "Consumer Loan/Vehicle loan",
          "Bank account or service",
          "Consumer Loan",
          "Debt collection",
          "Money transfers",
          "Mortgage",
          "Other financial service",
          "Payday loan",
          "Prepaid card",
          "Student loan"
         ],
         "labels": [
          "(CD) Certificate of deposit",
          "Auto",
          "Cashing a check without an account",
          "Check cashing",
          "Checking account",
          "Conventional adjustable mortgage (ARM)",
          "Conventional fixed mortgage",
          "Credit card",
          "Credit repair",
          "Debt settlement",
          "Domestic (US) money transfer",
          "Electronic Benefit Transfer / EBT card",
          "FHA mortgage",
          "Federal student loan",
          "Foreign currency exchange",
          "General purpose card",
          "Gift or merchant card",
          "Government benefit payment card",
          "Home equity loan or line of credit",
          "I do not know",
          "ID prepaid card",
          "Installment loan",
          "International money transfer",
          "Medical",
          "Mobile wallet",
          "Money order",
          "Mortgage",
          "Non-federal student loan",
          "Non-federal student loan",
          "Other (i.e. phone, health club, etc.)",
          "Other bank product/service",
          "Other mortgage",
          "Other special purpose card",
          "Pawn loan",
          "Payday loan",
          "Payday loan",
          "Payroll card",
          "Personal line of credit",
          "Refund anticipation check",
          "Reverse mortgage",
          "Savings account",
          "Second mortgage",
          "Title loan",
          "Transit card",
          "Travelerâs/Cashierâs checks",
          "VA mortgage",
          "Vehicle lease",
          "Vehicle loan",
          "Bank account or service",
          "Consumer Loan",
          "Debt collection",
          "Money transfers",
          "Mortgage",
          "Other financial service",
          "Payday loan",
          "Prepaid card",
          "Student loan"
         ],
         "name": "",
         "parents": [
          "Bank account or service",
          "Debt collection",
          "Bank account or service",
          "Other financial service",
          "Bank account or service",
          "Mortgage",
          "Mortgage",
          "Debt collection",
          "Other financial service",
          "Other financial service",
          "Money transfers",
          "Prepaid card",
          "Mortgage",
          "Debt collection",
          "Other financial service",
          "Prepaid card",
          "Prepaid card",
          "Prepaid card",
          "Mortgage",
          "Debt collection",
          "Prepaid card",
          "Consumer Loan",
          "Money transfers",
          "Debt collection",
          "Prepaid card",
          "Other financial service",
          "Debt collection",
          "Debt collection",
          "Student loan",
          "Debt collection",
          "Bank account or service",
          "Mortgage",
          "Prepaid card",
          "Consumer Loan",
          "Debt collection",
          "Payday loan",
          "Prepaid card",
          "Consumer Loan",
          "Other financial service",
          "Mortgage",
          "Bank account or service",
          "Mortgage",
          "Consumer Loan",
          "Prepaid card",
          "Other financial service",
          "Mortgage",
          "Consumer Loan",
          "Consumer Loan",
          "",
          "",
          "",
          "",
          "",
          "",
          "",
          "",
          ""
         ],
         "type": "treemap",
         "values": [
          2775,
          2504,
          454,
          154,
          43629,
          20878,
          56997,
          20695,
          53,
          139,
          1750,
          5,
          19107,
          1762,
          39,
          1151,
          224,
          221,
          8896,
          21475,
          144,
          5257,
          1923,
          13244,
          235,
          69,
          3415,
          2110,
          15722,
          29380,
          10599,
          73400,
          121,
          59,
          5757,
          3846,
          312,
          1496,
          38,
          1523,
          3894,
          658,
          324,
          30,
          50,
          3726,
          1630,
          12072,
          61351,
          20838,
          100342,
          3673,
          185185,
          542,
          3846,
          2443,
          15722
         ]
        }
       ],
       "layout": {
        "legend": {
         "tracegroupgap": 0
        },
        "template": {
         "data": {
          "bar": [
           {
            "error_x": {
             "color": "#2a3f5f"
            },
            "error_y": {
             "color": "#2a3f5f"
            },
            "marker": {
             "line": {
              "color": "#E5ECF6",
              "width": 0.5
             },
             "pattern": {
              "fillmode": "overlay",
              "size": 10,
              "solidity": 0.2
             }
            },
            "type": "bar"
           }
          ],
          "barpolar": [
           {
            "marker": {
             "line": {
              "color": "#E5ECF6",
              "width": 0.5
             },
             "pattern": {
              "fillmode": "overlay",
              "size": 10,
              "solidity": 0.2
             }
            },
            "type": "barpolar"
           }
          ],
          "carpet": [
           {
            "aaxis": {
             "endlinecolor": "#2a3f5f",
             "gridcolor": "white",
             "linecolor": "white",
             "minorgridcolor": "white",
             "startlinecolor": "#2a3f5f"
            },
            "baxis": {
             "endlinecolor": "#2a3f5f",
             "gridcolor": "white",
             "linecolor": "white",
             "minorgridcolor": "white",
             "startlinecolor": "#2a3f5f"
            },
            "type": "carpet"
           }
          ],
          "choropleth": [
           {
            "colorbar": {
             "outlinewidth": 0,
             "ticks": ""
            },
            "type": "choropleth"
           }
          ],
          "contour": [
           {
            "colorbar": {
             "outlinewidth": 0,
             "ticks": ""
            },
            "colorscale": [
             [
              0,
              "#0d0887"
             ],
             [
              0.1111111111111111,
              "#46039f"
             ],
             [
              0.2222222222222222,
              "#7201a8"
             ],
             [
              0.3333333333333333,
              "#9c179e"
             ],
             [
              0.4444444444444444,
              "#bd3786"
             ],
             [
              0.5555555555555556,
              "#d8576b"
             ],
             [
              0.6666666666666666,
              "#ed7953"
             ],
             [
              0.7777777777777778,
              "#fb9f3a"
             ],
             [
              0.8888888888888888,
              "#fdca26"
             ],
             [
              1,
              "#f0f921"
             ]
            ],
            "type": "contour"
           }
          ],
          "contourcarpet": [
           {
            "colorbar": {
             "outlinewidth": 0,
             "ticks": ""
            },
            "type": "contourcarpet"
           }
          ],
          "heatmap": [
           {
            "colorbar": {
             "outlinewidth": 0,
             "ticks": ""
            },
            "colorscale": [
             [
              0,
              "#0d0887"
             ],
             [
              0.1111111111111111,
              "#46039f"
             ],
             [
              0.2222222222222222,
              "#7201a8"
             ],
             [
              0.3333333333333333,
              "#9c179e"
             ],
             [
              0.4444444444444444,
              "#bd3786"
             ],
             [
              0.5555555555555556,
              "#d8576b"
             ],
             [
              0.6666666666666666,
              "#ed7953"
             ],
             [
              0.7777777777777778,
              "#fb9f3a"
             ],
             [
              0.8888888888888888,
              "#fdca26"
             ],
             [
              1,
              "#f0f921"
             ]
            ],
            "type": "heatmap"
           }
          ],
          "heatmapgl": [
           {
            "colorbar": {
             "outlinewidth": 0,
             "ticks": ""
            },
            "colorscale": [
             [
              0,
              "#0d0887"
             ],
             [
              0.1111111111111111,
              "#46039f"
             ],
             [
              0.2222222222222222,
              "#7201a8"
             ],
             [
              0.3333333333333333,
              "#9c179e"
             ],
             [
              0.4444444444444444,
              "#bd3786"
             ],
             [
              0.5555555555555556,
              "#d8576b"
             ],
             [
              0.6666666666666666,
              "#ed7953"
             ],
             [
              0.7777777777777778,
              "#fb9f3a"
             ],
             [
              0.8888888888888888,
              "#fdca26"
             ],
             [
              1,
              "#f0f921"
             ]
            ],
            "type": "heatmapgl"
           }
          ],
          "histogram": [
           {
            "marker": {
             "pattern": {
              "fillmode": "overlay",
              "size": 10,
              "solidity": 0.2
             }
            },
            "type": "histogram"
           }
          ],
          "histogram2d": [
           {
            "colorbar": {
             "outlinewidth": 0,
             "ticks": ""
            },
            "colorscale": [
             [
              0,
              "#0d0887"
             ],
             [
              0.1111111111111111,
              "#46039f"
             ],
             [
              0.2222222222222222,
              "#7201a8"
             ],
             [
              0.3333333333333333,
              "#9c179e"
             ],
             [
              0.4444444444444444,
              "#bd3786"
             ],
             [
              0.5555555555555556,
              "#d8576b"
             ],
             [
              0.6666666666666666,
              "#ed7953"
             ],
             [
              0.7777777777777778,
              "#fb9f3a"
             ],
             [
              0.8888888888888888,
              "#fdca26"
             ],
             [
              1,
              "#f0f921"
             ]
            ],
            "type": "histogram2d"
           }
          ],
          "histogram2dcontour": [
           {
            "colorbar": {
             "outlinewidth": 0,
             "ticks": ""
            },
            "colorscale": [
             [
              0,
              "#0d0887"
             ],
             [
              0.1111111111111111,
              "#46039f"
             ],
             [
              0.2222222222222222,
              "#7201a8"
             ],
             [
              0.3333333333333333,
              "#9c179e"
             ],
             [
              0.4444444444444444,
              "#bd3786"
             ],
             [
              0.5555555555555556,
              "#d8576b"
             ],
             [
              0.6666666666666666,
              "#ed7953"
             ],
             [
              0.7777777777777778,
              "#fb9f3a"
             ],
             [
              0.8888888888888888,
              "#fdca26"
             ],
             [
              1,
              "#f0f921"
             ]
            ],
            "type": "histogram2dcontour"
           }
          ],
          "mesh3d": [
           {
            "colorbar": {
             "outlinewidth": 0,
             "ticks": ""
            },
            "type": "mesh3d"
           }
          ],
          "parcoords": [
           {
            "line": {
             "colorbar": {
              "outlinewidth": 0,
              "ticks": ""
             }
            },
            "type": "parcoords"
           }
          ],
          "pie": [
           {
            "automargin": true,
            "type": "pie"
           }
          ],
          "scatter": [
           {
            "fillpattern": {
             "fillmode": "overlay",
             "size": 10,
             "solidity": 0.2
            },
            "type": "scatter"
           }
          ],
          "scatter3d": [
           {
            "line": {
             "colorbar": {
              "outlinewidth": 0,
              "ticks": ""
             }
            },
            "marker": {
             "colorbar": {
              "outlinewidth": 0,
              "ticks": ""
             }
            },
            "type": "scatter3d"
           }
          ],
          "scattercarpet": [
           {
            "marker": {
             "colorbar": {
              "outlinewidth": 0,
              "ticks": ""
             }
            },
            "type": "scattercarpet"
           }
          ],
          "scattergeo": [
           {
            "marker": {
             "colorbar": {
              "outlinewidth": 0,
              "ticks": ""
             }
            },
            "type": "scattergeo"
           }
          ],
          "scattergl": [
           {
            "marker": {
             "colorbar": {
              "outlinewidth": 0,
              "ticks": ""
             }
            },
            "type": "scattergl"
           }
          ],
          "scattermapbox": [
           {
            "marker": {
             "colorbar": {
              "outlinewidth": 0,
              "ticks": ""
             }
            },
            "type": "scattermapbox"
           }
          ],
          "scatterpolar": [
           {
            "marker": {
             "colorbar": {
              "outlinewidth": 0,
              "ticks": ""
             }
            },
            "type": "scatterpolar"
           }
          ],
          "scatterpolargl": [
           {
            "marker": {
             "colorbar": {
              "outlinewidth": 0,
              "ticks": ""
             }
            },
            "type": "scatterpolargl"
           }
          ],
          "scatterternary": [
           {
            "marker": {
             "colorbar": {
              "outlinewidth": 0,
              "ticks": ""
             }
            },
            "type": "scatterternary"
           }
          ],
          "surface": [
           {
            "colorbar": {
             "outlinewidth": 0,
             "ticks": ""
            },
            "colorscale": [
             [
              0,
              "#0d0887"
             ],
             [
              0.1111111111111111,
              "#46039f"
             ],
             [
              0.2222222222222222,
              "#7201a8"
             ],
             [
              0.3333333333333333,
              "#9c179e"
             ],
             [
              0.4444444444444444,
              "#bd3786"
             ],
             [
              0.5555555555555556,
              "#d8576b"
             ],
             [
              0.6666666666666666,
              "#ed7953"
             ],
             [
              0.7777777777777778,
              "#fb9f3a"
             ],
             [
              0.8888888888888888,
              "#fdca26"
             ],
             [
              1,
              "#f0f921"
             ]
            ],
            "type": "surface"
           }
          ],
          "table": [
           {
            "cells": {
             "fill": {
              "color": "#EBF0F8"
             },
             "line": {
              "color": "white"
             }
            },
            "header": {
             "fill": {
              "color": "#C8D4E3"
             },
             "line": {
              "color": "white"
             }
            },
            "type": "table"
           }
          ]
         },
         "layout": {
          "annotationdefaults": {
           "arrowcolor": "#2a3f5f",
           "arrowhead": 0,
           "arrowwidth": 1
          },
          "autotypenumbers": "strict",
          "coloraxis": {
           "colorbar": {
            "outlinewidth": 0,
            "ticks": ""
           }
          },
          "colorscale": {
           "diverging": [
            [
             0,
             "#8e0152"
            ],
            [
             0.1,
             "#c51b7d"
            ],
            [
             0.2,
             "#de77ae"
            ],
            [
             0.3,
             "#f1b6da"
            ],
            [
             0.4,
             "#fde0ef"
            ],
            [
             0.5,
             "#f7f7f7"
            ],
            [
             0.6,
             "#e6f5d0"
            ],
            [
             0.7,
             "#b8e186"
            ],
            [
             0.8,
             "#7fbc41"
            ],
            [
             0.9,
             "#4d9221"
            ],
            [
             1,
             "#276419"
            ]
           ],
           "sequential": [
            [
             0,
             "#0d0887"
            ],
            [
             0.1111111111111111,
             "#46039f"
            ],
            [
             0.2222222222222222,
             "#7201a8"
            ],
            [
             0.3333333333333333,
             "#9c179e"
            ],
            [
             0.4444444444444444,
             "#bd3786"
            ],
            [
             0.5555555555555556,
             "#d8576b"
            ],
            [
             0.6666666666666666,
             "#ed7953"
            ],
            [
             0.7777777777777778,
             "#fb9f3a"
            ],
            [
             0.8888888888888888,
             "#fdca26"
            ],
            [
             1,
             "#f0f921"
            ]
           ],
           "sequentialminus": [
            [
             0,
             "#0d0887"
            ],
            [
             0.1111111111111111,
             "#46039f"
            ],
            [
             0.2222222222222222,
             "#7201a8"
            ],
            [
             0.3333333333333333,
             "#9c179e"
            ],
            [
             0.4444444444444444,
             "#bd3786"
            ],
            [
             0.5555555555555556,
             "#d8576b"
            ],
            [
             0.6666666666666666,
             "#ed7953"
            ],
            [
             0.7777777777777778,
             "#fb9f3a"
            ],
            [
             0.8888888888888888,
             "#fdca26"
            ],
            [
             1,
             "#f0f921"
            ]
           ]
          },
          "colorway": [
           "#636efa",
           "#EF553B",
           "#00cc96",
           "#ab63fa",
           "#FFA15A",
           "#19d3f3",
           "#FF6692",
           "#B6E880",
           "#FF97FF",
           "#FECB52"
          ],
          "font": {
           "color": "#2a3f5f"
          },
          "geo": {
           "bgcolor": "white",
           "lakecolor": "white",
           "landcolor": "#E5ECF6",
           "showlakes": true,
           "showland": true,
           "subunitcolor": "white"
          },
          "hoverlabel": {
           "align": "left"
          },
          "hovermode": "closest",
          "mapbox": {
           "style": "light"
          },
          "paper_bgcolor": "white",
          "plot_bgcolor": "#E5ECF6",
          "polar": {
           "angularaxis": {
            "gridcolor": "white",
            "linecolor": "white",
            "ticks": ""
           },
           "bgcolor": "#E5ECF6",
           "radialaxis": {
            "gridcolor": "white",
            "linecolor": "white",
            "ticks": ""
           }
          },
          "scene": {
           "xaxis": {
            "backgroundcolor": "#E5ECF6",
            "gridcolor": "white",
            "gridwidth": 2,
            "linecolor": "white",
            "showbackground": true,
            "ticks": "",
            "zerolinecolor": "white"
           },
           "yaxis": {
            "backgroundcolor": "#E5ECF6",
            "gridcolor": "white",
            "gridwidth": 2,
            "linecolor": "white",
            "showbackground": true,
            "ticks": "",
            "zerolinecolor": "white"
           },
           "zaxis": {
            "backgroundcolor": "#E5ECF6",
            "gridcolor": "white",
            "gridwidth": 2,
            "linecolor": "white",
            "showbackground": true,
            "ticks": "",
            "zerolinecolor": "white"
           }
          },
          "shapedefaults": {
           "line": {
            "color": "#2a3f5f"
           }
          },
          "ternary": {
           "aaxis": {
            "gridcolor": "white",
            "linecolor": "white",
            "ticks": ""
           },
           "baxis": {
            "gridcolor": "white",
            "linecolor": "white",
            "ticks": ""
           },
           "bgcolor": "#E5ECF6",
           "caxis": {
            "gridcolor": "white",
            "linecolor": "white",
            "ticks": ""
           }
          },
          "title": {
           "x": 0.05
          },
          "xaxis": {
           "automargin": true,
           "gridcolor": "white",
           "linecolor": "white",
           "ticks": "",
           "title": {
            "standoff": 15
           },
           "zerolinecolor": "white",
           "zerolinewidth": 2
          },
          "yaxis": {
           "automargin": true,
           "gridcolor": "white",
           "linecolor": "white",
           "ticks": "",
           "title": {
            "standoff": 15
           },
           "zerolinecolor": "white",
           "zerolinewidth": 2
          }
         }
        },
        "title": {
         "text": "Distribution of Complaints Across Products and Sub-Products"
        }
       }
      },
      "text/html": [
       "<div>                            <div id=\"3dc662fd-8a7f-430d-bf29-e629aebb0b3f\" class=\"plotly-graph-div\" style=\"height:525px; width:100%;\"></div>            <script type=\"text/javascript\">                require([\"plotly\"], function(Plotly) {                    window.PLOTLYENV=window.PLOTLYENV || {};                                    if (document.getElementById(\"3dc662fd-8a7f-430d-bf29-e629aebb0b3f\")) {                    Plotly.newPlot(                        \"3dc662fd-8a7f-430d-bf29-e629aebb0b3f\",                        [{\"branchvalues\":\"total\",\"domain\":{\"x\":[0.0,1.0],\"y\":[0.0,1.0]},\"hovertemplate\":\"labels=%{label}<br>complaints=%{value}<br>parent=%{parent}<br>id=%{id}<extra></extra>\",\"ids\":[\"Bank account or service/(CD) Certificate of deposit\",\"Debt collection/Auto\",\"Bank account or service/Cashing a check without an account\",\"Other financial service/Check cashing\",\"Bank account or service/Checking account\",\"Mortgage/Conventional adjustable mortgage (ARM)\",\"Mortgage/Conventional fixed mortgage\",\"Debt collection/Credit card\",\"Other financial service/Credit repair\",\"Other financial service/Debt settlement\",\"Money transfers/Domestic (US) money transfer\",\"Prepaid card/Electronic Benefit Transfer / EBT card\",\"Mortgage/FHA mortgage\",\"Debt collection/Federal student loan\",\"Other financial service/Foreign currency exchange\",\"Prepaid card/General purpose card\",\"Prepaid card/Gift or merchant card\",\"Prepaid card/Government benefit payment card\",\"Mortgage/Home equity loan or line of credit\",\"Debt collection/I do not know\",\"Prepaid card/ID prepaid card\",\"Consumer Loan/Installment loan\",\"Money transfers/International money transfer\",\"Debt collection/Medical\",\"Prepaid card/Mobile wallet\",\"Other financial service/Money order\",\"Debt collection/Mortgage\",\"Debt collection/Non-federal student loan\",\"Student loan/Non-federal student loan\",\"Debt collection/Other (i.e. phone, health club, etc.)\",\"Bank account or service/Other bank product/service\",\"Mortgage/Other mortgage\",\"Prepaid card/Other special purpose card\",\"Consumer Loan/Pawn loan\",\"Debt collection/Payday loan\",\"Payday loan/Payday loan\",\"Prepaid card/Payroll card\",\"Consumer Loan/Personal line of credit\",\"Other financial service/Refund anticipation check\",\"Mortgage/Reverse mortgage\",\"Bank account or service/Savings account\",\"Mortgage/Second mortgage\",\"Consumer Loan/Title loan\",\"Prepaid card/Transit card\",\"Other financial service/Traveler\\u00e2\\u0080\\u0099s/Cashier\\u00e2\\u0080\\u0099s checks\",\"Mortgage/VA mortgage\",\"Consumer Loan/Vehicle lease\",\"Consumer Loan/Vehicle loan\",\"Bank account or service\",\"Consumer Loan\",\"Debt collection\",\"Money transfers\",\"Mortgage\",\"Other financial service\",\"Payday loan\",\"Prepaid card\",\"Student loan\"],\"labels\":[\"(CD) Certificate of deposit\",\"Auto\",\"Cashing a check without an account\",\"Check cashing\",\"Checking account\",\"Conventional adjustable mortgage (ARM)\",\"Conventional fixed mortgage\",\"Credit card\",\"Credit repair\",\"Debt settlement\",\"Domestic (US) money transfer\",\"Electronic Benefit Transfer / EBT card\",\"FHA mortgage\",\"Federal student loan\",\"Foreign currency exchange\",\"General purpose card\",\"Gift or merchant card\",\"Government benefit payment card\",\"Home equity loan or line of credit\",\"I do not know\",\"ID prepaid card\",\"Installment loan\",\"International money transfer\",\"Medical\",\"Mobile wallet\",\"Money order\",\"Mortgage\",\"Non-federal student loan\",\"Non-federal student loan\",\"Other (i.e. phone, health club, etc.)\",\"Other bank product/service\",\"Other mortgage\",\"Other special purpose card\",\"Pawn loan\",\"Payday loan\",\"Payday loan\",\"Payroll card\",\"Personal line of credit\",\"Refund anticipation check\",\"Reverse mortgage\",\"Savings account\",\"Second mortgage\",\"Title loan\",\"Transit card\",\"Traveler\\u00e2\\u0080\\u0099s/Cashier\\u00e2\\u0080\\u0099s checks\",\"VA mortgage\",\"Vehicle lease\",\"Vehicle loan\",\"Bank account or service\",\"Consumer Loan\",\"Debt collection\",\"Money transfers\",\"Mortgage\",\"Other financial service\",\"Payday loan\",\"Prepaid card\",\"Student loan\"],\"name\":\"\",\"parents\":[\"Bank account or service\",\"Debt collection\",\"Bank account or service\",\"Other financial service\",\"Bank account or service\",\"Mortgage\",\"Mortgage\",\"Debt collection\",\"Other financial service\",\"Other financial service\",\"Money transfers\",\"Prepaid card\",\"Mortgage\",\"Debt collection\",\"Other financial service\",\"Prepaid card\",\"Prepaid card\",\"Prepaid card\",\"Mortgage\",\"Debt collection\",\"Prepaid card\",\"Consumer Loan\",\"Money transfers\",\"Debt collection\",\"Prepaid card\",\"Other financial service\",\"Debt collection\",\"Debt collection\",\"Student loan\",\"Debt collection\",\"Bank account or service\",\"Mortgage\",\"Prepaid card\",\"Consumer Loan\",\"Debt collection\",\"Payday loan\",\"Prepaid card\",\"Consumer Loan\",\"Other financial service\",\"Mortgage\",\"Bank account or service\",\"Mortgage\",\"Consumer Loan\",\"Prepaid card\",\"Other financial service\",\"Mortgage\",\"Consumer Loan\",\"Consumer Loan\",\"\",\"\",\"\",\"\",\"\",\"\",\"\",\"\",\"\"],\"values\":[2775,2504,454,154,43629,20878,56997,20695,53,139,1750,5,19107,1762,39,1151,224,221,8896,21475,144,5257,1923,13244,235,69,3415,2110,15722,29380,10599,73400,121,59,5757,3846,312,1496,38,1523,3894,658,324,30,50,3726,1630,12072,61351,20838,100342,3673,185185,542,3846,2443,15722],\"type\":\"treemap\"}],                        {\"template\":{\"data\":{\"histogram2dcontour\":[{\"type\":\"histogram2dcontour\",\"colorbar\":{\"outlinewidth\":0,\"ticks\":\"\"},\"colorscale\":[[0.0,\"#0d0887\"],[0.1111111111111111,\"#46039f\"],[0.2222222222222222,\"#7201a8\"],[0.3333333333333333,\"#9c179e\"],[0.4444444444444444,\"#bd3786\"],[0.5555555555555556,\"#d8576b\"],[0.6666666666666666,\"#ed7953\"],[0.7777777777777778,\"#fb9f3a\"],[0.8888888888888888,\"#fdca26\"],[1.0,\"#f0f921\"]]}],\"choropleth\":[{\"type\":\"choropleth\",\"colorbar\":{\"outlinewidth\":0,\"ticks\":\"\"}}],\"histogram2d\":[{\"type\":\"histogram2d\",\"colorbar\":{\"outlinewidth\":0,\"ticks\":\"\"},\"colorscale\":[[0.0,\"#0d0887\"],[0.1111111111111111,\"#46039f\"],[0.2222222222222222,\"#7201a8\"],[0.3333333333333333,\"#9c179e\"],[0.4444444444444444,\"#bd3786\"],[0.5555555555555556,\"#d8576b\"],[0.6666666666666666,\"#ed7953\"],[0.7777777777777778,\"#fb9f3a\"],[0.8888888888888888,\"#fdca26\"],[1.0,\"#f0f921\"]]}],\"heatmap\":[{\"type\":\"heatmap\",\"colorbar\":{\"outlinewidth\":0,\"ticks\":\"\"},\"colorscale\":[[0.0,\"#0d0887\"],[0.1111111111111111,\"#46039f\"],[0.2222222222222222,\"#7201a8\"],[0.3333333333333333,\"#9c179e\"],[0.4444444444444444,\"#bd3786\"],[0.5555555555555556,\"#d8576b\"],[0.6666666666666666,\"#ed7953\"],[0.7777777777777778,\"#fb9f3a\"],[0.8888888888888888,\"#fdca26\"],[1.0,\"#f0f921\"]]}],\"heatmapgl\":[{\"type\":\"heatmapgl\",\"colorbar\":{\"outlinewidth\":0,\"ticks\":\"\"},\"colorscale\":[[0.0,\"#0d0887\"],[0.1111111111111111,\"#46039f\"],[0.2222222222222222,\"#7201a8\"],[0.3333333333333333,\"#9c179e\"],[0.4444444444444444,\"#bd3786\"],[0.5555555555555556,\"#d8576b\"],[0.6666666666666666,\"#ed7953\"],[0.7777777777777778,\"#fb9f3a\"],[0.8888888888888888,\"#fdca26\"],[1.0,\"#f0f921\"]]}],\"contourcarpet\":[{\"type\":\"contourcarpet\",\"colorbar\":{\"outlinewidth\":0,\"ticks\":\"\"}}],\"contour\":[{\"type\":\"contour\",\"colorbar\":{\"outlinewidth\":0,\"ticks\":\"\"},\"colorscale\":[[0.0,\"#0d0887\"],[0.1111111111111111,\"#46039f\"],[0.2222222222222222,\"#7201a8\"],[0.3333333333333333,\"#9c179e\"],[0.4444444444444444,\"#bd3786\"],[0.5555555555555556,\"#d8576b\"],[0.6666666666666666,\"#ed7953\"],[0.7777777777777778,\"#fb9f3a\"],[0.8888888888888888,\"#fdca26\"],[1.0,\"#f0f921\"]]}],\"surface\":[{\"type\":\"surface\",\"colorbar\":{\"outlinewidth\":0,\"ticks\":\"\"},\"colorscale\":[[0.0,\"#0d0887\"],[0.1111111111111111,\"#46039f\"],[0.2222222222222222,\"#7201a8\"],[0.3333333333333333,\"#9c179e\"],[0.4444444444444444,\"#bd3786\"],[0.5555555555555556,\"#d8576b\"],[0.6666666666666666,\"#ed7953\"],[0.7777777777777778,\"#fb9f3a\"],[0.8888888888888888,\"#fdca26\"],[1.0,\"#f0f921\"]]}],\"mesh3d\":[{\"type\":\"mesh3d\",\"colorbar\":{\"outlinewidth\":0,\"ticks\":\"\"}}],\"scatter\":[{\"fillpattern\":{\"fillmode\":\"overlay\",\"size\":10,\"solidity\":0.2},\"type\":\"scatter\"}],\"parcoords\":[{\"type\":\"parcoords\",\"line\":{\"colorbar\":{\"outlinewidth\":0,\"ticks\":\"\"}}}],\"scatterpolargl\":[{\"type\":\"scatterpolargl\",\"marker\":{\"colorbar\":{\"outlinewidth\":0,\"ticks\":\"\"}}}],\"bar\":[{\"error_x\":{\"color\":\"#2a3f5f\"},\"error_y\":{\"color\":\"#2a3f5f\"},\"marker\":{\"line\":{\"color\":\"#E5ECF6\",\"width\":0.5},\"pattern\":{\"fillmode\":\"overlay\",\"size\":10,\"solidity\":0.2}},\"type\":\"bar\"}],\"scattergeo\":[{\"type\":\"scattergeo\",\"marker\":{\"colorbar\":{\"outlinewidth\":0,\"ticks\":\"\"}}}],\"scatterpolar\":[{\"type\":\"scatterpolar\",\"marker\":{\"colorbar\":{\"outlinewidth\":0,\"ticks\":\"\"}}}],\"histogram\":[{\"marker\":{\"pattern\":{\"fillmode\":\"overlay\",\"size\":10,\"solidity\":0.2}},\"type\":\"histogram\"}],\"scattergl\":[{\"type\":\"scattergl\",\"marker\":{\"colorbar\":{\"outlinewidth\":0,\"ticks\":\"\"}}}],\"scatter3d\":[{\"type\":\"scatter3d\",\"line\":{\"colorbar\":{\"outlinewidth\":0,\"ticks\":\"\"}},\"marker\":{\"colorbar\":{\"outlinewidth\":0,\"ticks\":\"\"}}}],\"scattermapbox\":[{\"type\":\"scattermapbox\",\"marker\":{\"colorbar\":{\"outlinewidth\":0,\"ticks\":\"\"}}}],\"scatterternary\":[{\"type\":\"scatterternary\",\"marker\":{\"colorbar\":{\"outlinewidth\":0,\"ticks\":\"\"}}}],\"scattercarpet\":[{\"type\":\"scattercarpet\",\"marker\":{\"colorbar\":{\"outlinewidth\":0,\"ticks\":\"\"}}}],\"carpet\":[{\"aaxis\":{\"endlinecolor\":\"#2a3f5f\",\"gridcolor\":\"white\",\"linecolor\":\"white\",\"minorgridcolor\":\"white\",\"startlinecolor\":\"#2a3f5f\"},\"baxis\":{\"endlinecolor\":\"#2a3f5f\",\"gridcolor\":\"white\",\"linecolor\":\"white\",\"minorgridcolor\":\"white\",\"startlinecolor\":\"#2a3f5f\"},\"type\":\"carpet\"}],\"table\":[{\"cells\":{\"fill\":{\"color\":\"#EBF0F8\"},\"line\":{\"color\":\"white\"}},\"header\":{\"fill\":{\"color\":\"#C8D4E3\"},\"line\":{\"color\":\"white\"}},\"type\":\"table\"}],\"barpolar\":[{\"marker\":{\"line\":{\"color\":\"#E5ECF6\",\"width\":0.5},\"pattern\":{\"fillmode\":\"overlay\",\"size\":10,\"solidity\":0.2}},\"type\":\"barpolar\"}],\"pie\":[{\"automargin\":true,\"type\":\"pie\"}]},\"layout\":{\"autotypenumbers\":\"strict\",\"colorway\":[\"#636efa\",\"#EF553B\",\"#00cc96\",\"#ab63fa\",\"#FFA15A\",\"#19d3f3\",\"#FF6692\",\"#B6E880\",\"#FF97FF\",\"#FECB52\"],\"font\":{\"color\":\"#2a3f5f\"},\"hovermode\":\"closest\",\"hoverlabel\":{\"align\":\"left\"},\"paper_bgcolor\":\"white\",\"plot_bgcolor\":\"#E5ECF6\",\"polar\":{\"bgcolor\":\"#E5ECF6\",\"angularaxis\":{\"gridcolor\":\"white\",\"linecolor\":\"white\",\"ticks\":\"\"},\"radialaxis\":{\"gridcolor\":\"white\",\"linecolor\":\"white\",\"ticks\":\"\"}},\"ternary\":{\"bgcolor\":\"#E5ECF6\",\"aaxis\":{\"gridcolor\":\"white\",\"linecolor\":\"white\",\"ticks\":\"\"},\"baxis\":{\"gridcolor\":\"white\",\"linecolor\":\"white\",\"ticks\":\"\"},\"caxis\":{\"gridcolor\":\"white\",\"linecolor\":\"white\",\"ticks\":\"\"}},\"coloraxis\":{\"colorbar\":{\"outlinewidth\":0,\"ticks\":\"\"}},\"colorscale\":{\"sequential\":[[0.0,\"#0d0887\"],[0.1111111111111111,\"#46039f\"],[0.2222222222222222,\"#7201a8\"],[0.3333333333333333,\"#9c179e\"],[0.4444444444444444,\"#bd3786\"],[0.5555555555555556,\"#d8576b\"],[0.6666666666666666,\"#ed7953\"],[0.7777777777777778,\"#fb9f3a\"],[0.8888888888888888,\"#fdca26\"],[1.0,\"#f0f921\"]],\"sequentialminus\":[[0.0,\"#0d0887\"],[0.1111111111111111,\"#46039f\"],[0.2222222222222222,\"#7201a8\"],[0.3333333333333333,\"#9c179e\"],[0.4444444444444444,\"#bd3786\"],[0.5555555555555556,\"#d8576b\"],[0.6666666666666666,\"#ed7953\"],[0.7777777777777778,\"#fb9f3a\"],[0.8888888888888888,\"#fdca26\"],[1.0,\"#f0f921\"]],\"diverging\":[[0,\"#8e0152\"],[0.1,\"#c51b7d\"],[0.2,\"#de77ae\"],[0.3,\"#f1b6da\"],[0.4,\"#fde0ef\"],[0.5,\"#f7f7f7\"],[0.6,\"#e6f5d0\"],[0.7,\"#b8e186\"],[0.8,\"#7fbc41\"],[0.9,\"#4d9221\"],[1,\"#276419\"]]},\"xaxis\":{\"gridcolor\":\"white\",\"linecolor\":\"white\",\"ticks\":\"\",\"title\":{\"standoff\":15},\"zerolinecolor\":\"white\",\"automargin\":true,\"zerolinewidth\":2},\"yaxis\":{\"gridcolor\":\"white\",\"linecolor\":\"white\",\"ticks\":\"\",\"title\":{\"standoff\":15},\"zerolinecolor\":\"white\",\"automargin\":true,\"zerolinewidth\":2},\"scene\":{\"xaxis\":{\"backgroundcolor\":\"#E5ECF6\",\"gridcolor\":\"white\",\"linecolor\":\"white\",\"showbackground\":true,\"ticks\":\"\",\"zerolinecolor\":\"white\",\"gridwidth\":2},\"yaxis\":{\"backgroundcolor\":\"#E5ECF6\",\"gridcolor\":\"white\",\"linecolor\":\"white\",\"showbackground\":true,\"ticks\":\"\",\"zerolinecolor\":\"white\",\"gridwidth\":2},\"zaxis\":{\"backgroundcolor\":\"#E5ECF6\",\"gridcolor\":\"white\",\"linecolor\":\"white\",\"showbackground\":true,\"ticks\":\"\",\"zerolinecolor\":\"white\",\"gridwidth\":2}},\"shapedefaults\":{\"line\":{\"color\":\"#2a3f5f\"}},\"annotationdefaults\":{\"arrowcolor\":\"#2a3f5f\",\"arrowhead\":0,\"arrowwidth\":1},\"geo\":{\"bgcolor\":\"white\",\"landcolor\":\"#E5ECF6\",\"subunitcolor\":\"white\",\"showland\":true,\"showlakes\":true,\"lakecolor\":\"white\"},\"title\":{\"x\":0.05},\"mapbox\":{\"style\":\"light\"}}},\"legend\":{\"tracegroupgap\":0},\"title\":{\"text\":\"Distribution of Complaints Across Products and Sub-Products\"}},                        {\"responsive\": true}                    ).then(function(){\n",
       "                            \n",
       "var gd = document.getElementById('3dc662fd-8a7f-430d-bf29-e629aebb0b3f');\n",
       "var x = new MutationObserver(function (mutations, observer) {{\n",
       "        var display = window.getComputedStyle(gd).display;\n",
       "        if (!display || display === 'none') {{\n",
       "            console.log([gd, 'removed!']);\n",
       "            Plotly.purge(gd);\n",
       "            observer.disconnect();\n",
       "        }}\n",
       "}});\n",
       "\n",
       "// Listen for the removal of the full notebook cells\n",
       "var notebookContainer = gd.closest('#notebook-container');\n",
       "if (notebookContainer) {{\n",
       "    x.observe(notebookContainer, {childList: true});\n",
       "}}\n",
       "\n",
       "// Listen for the clearing of the current output cell\n",
       "var outputEl = gd.closest('.output');\n",
       "if (outputEl) {{\n",
       "    x.observe(outputEl, {childList: true});\n",
       "}}\n",
       "\n",
       "                        })                };                });            </script>        </div>"
      ]
     },
     "metadata": {},
     "output_type": "display_data"
    }
   ],
   "source": [
    "import plotly.express as px\n",
    "\n",
    "# Create a choropleth map for the distribution of complaints across states\n",
    "state_complaints = df['state'].value_counts().reset_index()\n",
    "state_complaints.columns = ['state', 'complaints']\n",
    "\n",
    "fig = px.choropleth(state_complaints, \n",
    "                    locations='state', \n",
    "                    locationmode='USA-states', \n",
    "                    scope='usa',\n",
    "                    color='complaints', \n",
    "                    hover_name='state', \n",
    "                    color_continuous_scale='Blues',\n",
    "                    title='Distribution of Complaints Across States')\n",
    "fig.show()\n",
    "\n",
    "# Create a treemap for the distribution of complaints across products and sub-products\n",
    "product_complaints = df.groupby(['product', 'sub_product']).size().reset_index(name='complaints')\n",
    "fig = px.treemap(product_complaints, \n",
    "                 path=['product', 'sub_product'], \n",
    "                 values='complaints', \n",
    "                 title='Distribution of Complaints Across Products and Sub-Products')\n",
    "fig.show()\n",
    "\n"
   ]
  },
  {
   "cell_type": "markdown",
   "id": "51381114",
   "metadata": {},
   "source": [
    "The fact that California has the highest number of complaints suggests that there may be specific challenges or issues within the state's financial services sector that need attention or improvement. Additionally, the observation that mortgage-related complaints are the highest indicates potential issues or dissatisfaction related to mortgage products or services in general. "
   ]
  },
  {
   "cell_type": "markdown",
   "id": "cbf96dc3",
   "metadata": {},
   "source": [
    "**Conclusion:**\n",
    "\n",
    "In this project, I analyzed consumer complaints about financial products and services using Python. Here's a summary of my work and the key insights:\n",
    "\n",
    "1. **Data Exploration and Preprocessing:**\n",
    "   - I obtained the consumer complaints dataset from Kaggle and explored its structure and contents.\n",
    "   - I identified missing values and handled them appropriately, dropping columns with a high percentage of missing data.\n",
    "   - The dataset contained information about various aspects of complaints, including product types, issues, company responses, and more.\n",
    "\n",
    "2. **Analysis and Visualization:**\n",
    "   - I visualized the distribution of complaints over time, identifying trends and fluctuations in complaint volume.\n",
    "   - The analysis revealed an increasing trend in complaints over the years, with a notable decrease in 2016, suggesting improvements in addressing consumer concerns by financial institutions.\n",
    "   - I explored common issues reported by consumers and visualized them using bar charts, highlighting the most frequent issues such as loan modifications, collections, and payments.\n",
    "   - Sentiment analysis was not feasible due to the absence of consumer complaint narratives, which were largely missing from the dataset.\n",
    "\n",
    "3. **Named Entity Recognition (NER):**\n",
    "   - I considered applying NER techniques to extract meaningful entities from consumer complaint narratives. However, due to a high percentage of missing data in the narrative column, this approach was not feasible.\n",
    "\n",
    "4. **Insights:**\n",
    "   - California emerged as the state with the highest number of complaints, indicating potential challenges or issues within its financial services sector.\n",
    "   - Mortgage-related complaints were prevalent, suggesting issues or dissatisfaction with mortgage products or services.\n",
    "   - Most complaints were closed with an explanation, indicating efforts by financial institutions to address consumer concerns promptly.\n",
    "   - The majority of responses were timely, indicating a focus on addressing complaints in a timely manner.\n",
    "   - A significant portion of consumers did not dispute the resolutions provided by companies, suggesting a level of satisfaction or acceptance with the outcomes.\n",
    "\n",
    "**Overall, the analysis provides valuable insights into consumer complaints about financial products and services, highlighting areas for improvement and opportunities for enhancing customer satisfaction and regulatory compliance in the financial marketplace.**\n"
   ]
  },
  {
   "cell_type": "code",
   "execution_count": null,
   "id": "8168edfa",
   "metadata": {},
   "outputs": [],
   "source": []
  }
 ],
 "metadata": {
  "kernelspec": {
   "display_name": "Python 3 (ipykernel)",
   "language": "python",
   "name": "python3"
  },
  "language_info": {
   "codemirror_mode": {
    "name": "ipython",
    "version": 3
   },
   "file_extension": ".py",
   "mimetype": "text/x-python",
   "name": "python",
   "nbconvert_exporter": "python",
   "pygments_lexer": "ipython3",
   "version": "3.11.5"
  }
 },
 "nbformat": 4,
 "nbformat_minor": 5
}
