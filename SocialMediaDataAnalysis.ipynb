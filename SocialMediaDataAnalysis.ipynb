{
 "cells": [
  {
   "cell_type": "markdown",
   "metadata": {},
   "source": [
    "# Clean & Analyze Social Media"
   ]
  },
  {
   "cell_type": "markdown",
   "metadata": {},
   "source": [
    "## Introduction\n",
    "\n",
    "Social media has become a ubiquitous part of modern life, with platforms such as Instagram, Twitter, and Facebook serving as essential communication channels. Social media data sets are vast and complex, making analysis a challenging task for businesses and researchers alike. In this project, we explore a simulated social media, for example Tweets, data set to understand trends in likes across different categories.\n",
    "\n",
    "## Prerequisites\n",
    "\n",
    "To follow along with this project, you should have a basic understanding of Python programming and data analysis concepts. In addition, you may want to use the following packages in your Python environment:\n",
    "\n",
    "- pandas\n",
    "- Matplotlib\n",
    "- ...\n",
    "\n",
    "These packages should already be installed in Coursera's Jupyter Notebook environment, however if you'd like to install additional packages that are not included in this environment or are working off platform you can install additional packages using `!pip install packagename` within a notebook cell such as:\n",
    "\n",
    "- `!pip install pandas`\n",
    "- `!pip install matplotlib`\n",
    "\n",
    "## Project Scope\n",
    "\n",
    "The objective of this project is to analyze tweets (or other social media data) and gain insights into user engagement. We will explore the data set using visualization techniques to understand the distribution of likes across different categories. Finally, we will analyze the data to draw conclusions about the most popular categories and the overall engagement on the platform.\n",
    "\n",
    "## Step 1: Importing Required Libraries\n",
    "\n",
    "As the name suggests, the first step is to import all the necessary libraries that will be used in the project. In this case, we need pandas, numpy, matplotlib, seaborn, and random libraries.\n",
    "\n",
    "Pandas is a library used for data manipulation and analysis. Numpy is a library used for numerical computations. Matplotlib is a library used for data visualization. Seaborn is a library used for statistical data visualization. Random is a library used to generate random numbers."
   ]
  },
  {
   "cell_type": "code",
   "execution_count": 24,
   "metadata": {},
   "outputs": [],
   "source": [
    "import pandas as pd\n",
    "import numpy as np\n",
    "import matplotlib.pyplot as plt\n",
    "import seaborn as sns\n",
    "%matplotlib inline \n",
    "import random\n",
    "from scipy.stats import zscore"
   ]
  },
  {
   "cell_type": "markdown",
   "metadata": {},
   "source": [
    "# Step 2: Generating Random Data for the Social Media Data"
   ]
  },
  {
   "cell_type": "code",
   "execution_count": 7,
   "metadata": {},
   "outputs": [],
   "source": [
    "categories = ['Food', 'Travel', 'Fashion', 'Fitness', 'Music', 'Culture', 'Family', 'Health']\n",
    "\n",
    "# Set the number of periods\n",
    "n = 500\n",
    "\n",
    "# Set a seed for reproducibility\n",
    "np.random.seed(42)\n",
    "random.seed(42)\n",
    "\n",
    "# Generate random data dictionary\n",
    "data = {\n",
    "    'Date': pd.date_range('2021-01-01', periods=500),\n",
    "    'Category': [random.choice(categories) for _ in range(500)],\n",
    "    'Likes': np.random.randint(0, 10000, size=500)\n",
    "}\n"
   ]
  },
  {
   "cell_type": "markdown",
   "metadata": {},
   "source": [
    "# Step 3: Loading the Data into Pandas and Data Exploration "
   ]
  },
  {
   "cell_type": "code",
   "execution_count": 8,
   "metadata": {},
   "outputs": [
    {
     "name": "stdout",
     "output_type": "stream",
     "text": [
      "          Date Category  Likes\n",
      "0   2021-01-01   Travel   7270\n",
      "1   2021-01-02     Food    860\n",
      "2   2021-01-03    Music   5390\n",
      "3   2021-01-04  Fitness   5191\n",
      "4   2021-01-05  Fitness   5734\n",
      "..         ...      ...    ...\n",
      "495 2022-05-11   Travel   1122\n",
      "496 2022-05-12   Family   4079\n",
      "497 2022-05-13  Fashion   1571\n",
      "498 2022-05-14   Health   5073\n",
      "499 2022-05-15  Fashion   5104\n",
      "\n",
      "[500 rows x 3 columns]\n"
     ]
    }
   ],
   "source": [
    "# Create a DataFrame\n",
    "df = pd.DataFrame(data)\n",
    "\n",
    "# Display the generated data\n",
    "print(df)\n"
   ]
  },
  {
   "cell_type": "code",
   "execution_count": 10,
   "metadata": {},
   "outputs": [
    {
     "data": {
      "text/html": [
       "<div>\n",
       "<style scoped>\n",
       "    .dataframe tbody tr th:only-of-type {\n",
       "        vertical-align: middle;\n",
       "    }\n",
       "\n",
       "    .dataframe tbody tr th {\n",
       "        vertical-align: top;\n",
       "    }\n",
       "\n",
       "    .dataframe thead th {\n",
       "        text-align: right;\n",
       "    }\n",
       "</style>\n",
       "<table border=\"1\" class=\"dataframe\">\n",
       "  <thead>\n",
       "    <tr style=\"text-align: right;\">\n",
       "      <th></th>\n",
       "      <th>Date</th>\n",
       "      <th>Category</th>\n",
       "      <th>Likes</th>\n",
       "    </tr>\n",
       "  </thead>\n",
       "  <tbody>\n",
       "    <tr>\n",
       "      <th>0</th>\n",
       "      <td>2021-01-01</td>\n",
       "      <td>Travel</td>\n",
       "      <td>7270</td>\n",
       "    </tr>\n",
       "    <tr>\n",
       "      <th>1</th>\n",
       "      <td>2021-01-02</td>\n",
       "      <td>Food</td>\n",
       "      <td>860</td>\n",
       "    </tr>\n",
       "    <tr>\n",
       "      <th>2</th>\n",
       "      <td>2021-01-03</td>\n",
       "      <td>Music</td>\n",
       "      <td>5390</td>\n",
       "    </tr>\n",
       "    <tr>\n",
       "      <th>3</th>\n",
       "      <td>2021-01-04</td>\n",
       "      <td>Fitness</td>\n",
       "      <td>5191</td>\n",
       "    </tr>\n",
       "    <tr>\n",
       "      <th>4</th>\n",
       "      <td>2021-01-05</td>\n",
       "      <td>Fitness</td>\n",
       "      <td>5734</td>\n",
       "    </tr>\n",
       "  </tbody>\n",
       "</table>\n",
       "</div>"
      ],
      "text/plain": [
       "        Date Category  Likes\n",
       "0 2021-01-01   Travel   7270\n",
       "1 2021-01-02     Food    860\n",
       "2 2021-01-03    Music   5390\n",
       "3 2021-01-04  Fitness   5191\n",
       "4 2021-01-05  Fitness   5734"
      ]
     },
     "execution_count": 10,
     "metadata": {},
     "output_type": "execute_result"
    }
   ],
   "source": [
    "df.head()"
   ]
  },
  {
   "cell_type": "code",
   "execution_count": 13,
   "metadata": {},
   "outputs": [
    {
     "data": {
      "text/plain": [
       "Fitness    78\n",
       "Family     70\n",
       "Travel     68\n",
       "Music      62\n",
       "Food       58\n",
       "Fashion    57\n",
       "Health     55\n",
       "Culture    52\n",
       "Name: Category, dtype: int64"
      ]
     },
     "execution_count": 13,
     "metadata": {},
     "output_type": "execute_result"
    }
   ],
   "source": [
    "df['Category'].value_counts(normalize=False, sort=True, ascending=False, dropna=True)"
   ]
  },
  {
   "cell_type": "code",
   "execution_count": 14,
   "metadata": {},
   "outputs": [
    {
     "data": {
      "text/html": [
       "<div>\n",
       "<style scoped>\n",
       "    .dataframe tbody tr th:only-of-type {\n",
       "        vertical-align: middle;\n",
       "    }\n",
       "\n",
       "    .dataframe tbody tr th {\n",
       "        vertical-align: top;\n",
       "    }\n",
       "\n",
       "    .dataframe thead th {\n",
       "        text-align: right;\n",
       "    }\n",
       "</style>\n",
       "<table border=\"1\" class=\"dataframe\">\n",
       "  <thead>\n",
       "    <tr style=\"text-align: right;\">\n",
       "      <th></th>\n",
       "      <th>Likes</th>\n",
       "    </tr>\n",
       "  </thead>\n",
       "  <tbody>\n",
       "    <tr>\n",
       "      <th>count</th>\n",
       "      <td>500.000000</td>\n",
       "    </tr>\n",
       "    <tr>\n",
       "      <th>mean</th>\n",
       "      <td>5079.472000</td>\n",
       "    </tr>\n",
       "    <tr>\n",
       "      <th>std</th>\n",
       "      <td>2840.679867</td>\n",
       "    </tr>\n",
       "    <tr>\n",
       "      <th>min</th>\n",
       "      <td>4.000000</td>\n",
       "    </tr>\n",
       "    <tr>\n",
       "      <th>25%</th>\n",
       "      <td>2732.500000</td>\n",
       "    </tr>\n",
       "    <tr>\n",
       "      <th>50%</th>\n",
       "      <td>5234.500000</td>\n",
       "    </tr>\n",
       "    <tr>\n",
       "      <th>75%</th>\n",
       "      <td>7429.500000</td>\n",
       "    </tr>\n",
       "    <tr>\n",
       "      <th>max</th>\n",
       "      <td>9998.000000</td>\n",
       "    </tr>\n",
       "  </tbody>\n",
       "</table>\n",
       "</div>"
      ],
      "text/plain": [
       "             Likes\n",
       "count   500.000000\n",
       "mean   5079.472000\n",
       "std    2840.679867\n",
       "min       4.000000\n",
       "25%    2732.500000\n",
       "50%    5234.500000\n",
       "75%    7429.500000\n",
       "max    9998.000000"
      ]
     },
     "execution_count": 14,
     "metadata": {},
     "output_type": "execute_result"
    }
   ],
   "source": [
    "df.describe()"
   ]
  },
  {
   "cell_type": "markdown",
   "metadata": {},
   "source": [
    "# Step 4: Data Cleaning "
   ]
  },
  {
   "cell_type": "code",
   "execution_count": 15,
   "metadata": {},
   "outputs": [
    {
     "name": "stdout",
     "output_type": "stream",
     "text": [
      "          Date Category  Likes\n",
      "0   2021-01-01   Travel   7270\n",
      "1   2021-01-02     Food    860\n",
      "2   2021-01-03    Music   5390\n",
      "3   2021-01-04  Fitness   5191\n",
      "4   2021-01-05  Fitness   5734\n",
      "..         ...      ...    ...\n",
      "495 2022-05-11   Travel   1122\n",
      "496 2022-05-12   Family   4079\n",
      "497 2022-05-13  Fashion   1571\n",
      "498 2022-05-14   Health   5073\n",
      "499 2022-05-15  Fashion   5104\n",
      "\n",
      "[500 rows x 3 columns]\n"
     ]
    }
   ],
   "source": [
    "# Drop rows with null values\n",
    "df = df.dropna()\n",
    "\n",
    "# Remove duplicate rows\n",
    "df = df.drop_duplicates()\n",
    "\n",
    "# Convert 'Date' to datetime format\n",
    "df['Date'] = pd.to_datetime(df['Date'])\n",
    "\n",
    "# Convert 'Likes' to integers\n",
    "df['Likes'] = df['Likes'].astype(int)\n",
    "\n",
    "# Display the cleaned DataFrame\n",
    "print(df)\n"
   ]
  },
  {
   "cell_type": "markdown",
   "metadata": {},
   "source": [
    "# Step 5: Data Visualization "
   ]
  },
  {
   "cell_type": "code",
   "execution_count": 16,
   "metadata": {},
   "outputs": [
    {
     "data": {
      "image/png": "[encoded data removed]",
      "text/plain": [
       "<Figure size 432x288 with 1 Axes>"
      ]
     },
     "metadata": {
      "needs_background": "light"
     },
     "output_type": "display_data"
    }
   ],
   "source": [
    "# Visualize the data with a histogram\n",
    "sns.distplot(df['Likes'])\n",
    "plt.title('Likes Distribution')\n",
    "plt.xlabel('Likes')\n",
    "plt.ylabel('Frequency')\n",
    "plt.show()\n"
   ]
  },
  {
   "cell_type": "code",
   "execution_count": 23,
   "metadata": {},
   "outputs": [
    {
     "data": {
      "image/png": "[encoded data removed]",
      "text/plain": [
       "<Figure size 576x432 with 1 Axes>"
      ]
     },
     "metadata": {
      "needs_background": "light"
     },
     "output_type": "display_data"
    }
   ],
   "source": [
    "# Create a boxplot for the 'Likes' variable\n",
    "plt.figure(figsize=(8, 6))\n",
    "sns.boxplot(x=df['Likes'])\n",
    "plt.title('Boxplot of Likes')\n",
    "plt.xlabel('Likes')\n",
    "plt.show()"
   ]
  },
  {
   "cell_type": "code",
   "execution_count": 22,
   "metadata": {},
   "outputs": [
    {
     "data": {
      "text/plain": [
       "(array([0, 1, 2, 3, 4, 5, 6, 7]), <a list of 8 Text major ticklabel objects>)"
      ]
     },
     "execution_count": 22,
     "metadata": {},
     "output_type": "execute_result"
    },
    {
     "data": {
      "image/png": "[encoded data removed]",
      "text/plain": [
       "<Figure size 864x432 with 1 Axes>"
      ]
     },
     "metadata": {
      "needs_background": "light"
     },
     "output_type": "display_data"
    }
   ],
   "source": [
    "# Create a boxplot\n",
    "plt.figure(figsize=(12,6))\n",
    "sns.boxplot(x='Category', y='Likes', data=df)\n",
    "plt.title('Likes Distribution by Category')\n",
    "plt.xticks(rotation=90)"
   ]
  },
  {
   "cell_type": "code",
   "execution_count": 25,
   "metadata": {},
   "outputs": [
    {
     "name": "stdout",
     "output_type": "stream",
     "text": [
      "Identified Outliers:\n",
      "Empty DataFrame\n",
      "Columns: [Date, Category, Likes, Year, Z_score]\n",
      "Index: []\n"
     ]
    }
   ],
   "source": [
    "# Calculate Z-scores for 'Likes' within each category\n",
    "df['Z_score'] = df.groupby('Category')['Likes'].transform(zscore)\n",
    "\n",
    "# Set a Z-score threshold for identifying outliers (e.g., Z_score > 3 or Z_score < -3)\n",
    "outliers = df[(df['Z_score'] > 3) | (df['Z_score'] < -3)]\n",
    "\n",
    "# Display the identified outliers\n",
    "print(\"Identified Outliers:\")\n",
    "print(outliers)"
   ]
  },
  {
   "cell_type": "code",
   "execution_count": 18,
   "metadata": {},
   "outputs": [
    {
     "name": "stdout",
     "output_type": "stream",
     "text": [
      "Mean Likes: 5079.472\n"
     ]
    }
   ],
   "source": [
    "# Print the mean of the 'Likes' category\n",
    "print(f\"Mean Likes: {df['Likes'].mean()}\")"
   ]
  },
  {
   "cell_type": "code",
   "execution_count": 19,
   "metadata": {},
   "outputs": [
    {
     "name": "stdout",
     "output_type": "stream",
     "text": [
      "\n",
      "Mean Likes by Category:\n",
      "Category\n",
      "Culture    4825.961538\n",
      "Family     5277.957143\n",
      "Fashion    4939.350877\n",
      "Fitness    5103.820513\n",
      "Food       5159.586207\n",
      "Health     5229.927273\n",
      "Music      4928.693548\n",
      "Travel     5105.985294\n",
      "Name: Likes, dtype: float64\n"
     ]
    }
   ],
   "source": [
    "# Print the mean of each Category's 'Likes'\n",
    "category_likes_mean = df.groupby('Category')['Likes'].mean()\n",
    "print(\"\\nMean Likes by Category:\")\n",
    "print(category_likes_mean)"
   ]
  },
  {
   "cell_type": "code",
   "execution_count": 20,
   "metadata": {},
   "outputs": [
    {
     "data": {
      "text/plain": [
       "(array([0, 1, 2, 3, 4, 5, 6, 7]), <a list of 8 Text major ticklabel objects>)"
      ]
     },
     "execution_count": 20,
     "metadata": {},
     "output_type": "execute_result"
    },
    {
     "data": {
      "image/png": "[encoded data removed]",
      "text/plain": [
       "<Figure size 432x288 with 1 Axes>"
      ]
     },
     "metadata": {
      "needs_background": "light"
     },
     "output_type": "display_data"
    }
   ],
   "source": [
    " # plotting means of group\n",
    "sns.barplot(data=df,y='Likes',x='Category')\n",
    "plt.xticks(rotation=90)"
   ]
  },
  {
   "cell_type": "code",
   "execution_count": 21,
   "metadata": {},
   "outputs": [
    {
     "data": {
      "image/png": "[encoded data removed]",
      "text/plain": [
       "<Figure size 720x432 with 1 Axes>"
      ]
     },
     "metadata": {
      "needs_background": "light"
     },
     "output_type": "display_data"
    }
   ],
   "source": [
    "# Extract year from the 'Date' column\n",
    "df['Year'] = df['Date'].dt.year\n",
    "\n",
    "# Filter data for the years 2021 and 2022\n",
    "df_2021_2022 = df[df['Year'].isin([2021, 2022])]\n",
    "\n",
    "# Group by 'Category' and sum the 'Likes' for each category\n",
    "likes_by_category = df_2021_2022.groupby(['Category', 'Year'])['Likes'].sum().unstack()\n",
    "\n",
    "# Plot the bar chart\n",
    "likes_by_category.plot(kind='bar', figsize=(10, 6))\n",
    "plt.title('Likes of Each Category in 2021 and 2022')\n",
    "plt.xlabel('Category')\n",
    "plt.ylabel('Likes')\n",
    "plt.legend(title='Year')\n",
    "plt.show()\n"
   ]
  },
  {
   "cell_type": "markdown",
   "metadata": {},
   "source": [
    "# INSIGHTS and CONCLUSIONS\n",
    "\n",
    "I appreciate the oppourtunity to present my data visualization project. This project is focused on comapring twitter likes across different categories and in the years 2021 and 2022. Throughout this project, I followed a systematic process to extract insights from the given dataset, utilizing Python programming and Matplotlib library for visualization.\n",
    "\n",
    "**Data Source**\n",
    "The dataset used in this project is synthtic and was generated for the purpose of demonstrating data analysis and visualization techniques. Unlike real-world data, this data set does not represent actual user engagement or trends.\n",
    "The data includes randomly generated values for the 'Date', 'Category', and 'Likes' columns.\n",
    "\n",
    "**Process Overview**\n",
    "1. Data Cleaning and Preparation:\n",
    "   I started with examining the dataset and ensusring the dataset does not contain null values and duplicate rows. I also made      sure to convert the 'Date' Column to the datetime format and the 'Likes' column to an integer.\n",
    "2. Data Aggregation and Analysis:\n",
    "   I utilized Seaborn's distribution plot to visualize the distribution of the continous variable 'Likes'. Additionally, I          employed a box plot to check for outliers. Following this, I calculated both the      overall mean of Likes and the mean of Likes within each category. To compare these means across categories, I generated a bar    plot using Seaborn.\n",
    "   I grouped the 'Category' and 'Year', calculating the sum of 'Likes for each category, then created a bar plot to visualize and compare the Likes for each category in the years 2021 and 2022. \n",
    "   \n",
    "**Key Findings**\n",
    "1. Likes Distribution:\n",
    "   The likes distribution exhibits a slight right skewness, as highlighted by the longer right tail in the histogram. This indicates that while the majority of content receives moderate engagement, there are instances of higher engagement, contributing to the extended right tail.\n",
    "2. Identifying Outliers:\n",
    "   While exploring potential outliers using boxplots, no clear outliers were observed across categories. \n",
    "3. Z-Score Analysis:\n",
    "   An examination of Z-scores aimed to identify potential outliers within the dataset. Z-scores measure how many standard deviations a data point is from the mean, with values beyond a specified threshold considered potential outliers.\n",
    "   The Z-score analysis revealed that, according to the chosen threshold (Z > 3 or Z < -3), no outliers were identified in the dataset. This suggests that individual likes values did not significantly deviate from the mean in a manner that would classify them as outliers.\n",
    "4. Mean Comparison:\n",
    "   Examining mean likes at the category level unveils intriguing patterns. By comparing each category's mean likes to the overall mean, a nuanced understanding emerges. Categories like 'Family' and 'Health' outperform the overall mean, signaling higher-than-average engagement. In contrast, 'Culture' and 'Music' exhibit slightly lower mean likes.\n",
    "5. Comparing Both Years (2021 and 2022):\n",
    "   In the comparison between the two years, a notable trend emerged – the total amount of likes experienced a drastic reduction in 2022. The data suggests that user engagement, as measured by likes, was considerably higher in 2021 than in the subsequent year.\n",
    "6. Category-Specific Likes in 2021:\n",
    "   In 2021, 'Travel' and 'Fitness' categories stood out with the highest likes, indicating a robust engagement from the audience.\n",
    "   Conversely, 'Culture' and 'Health' garnered the lowest likes in 2021, suggesting comparatively lower interest or engagement within these categories.\n",
    "7. Category-Specific Likes in 2022:\n",
    "   The dynamics shifted in 2022, with 'Family' and 'Health' claiming the top spots for the highest likes, signaling a change in user preferences or content trends.\n",
    "   On the contrary, 'Food' and 'Travel' observed the lowest likes in 2022, highlighting a shift in the audience's engagement patterns.\n",
    "   \n",
    "**Struggles and Solutions**\n",
    "1. One challenge was ensuring the 'Date' column was in the correct format. I resolved this by converting it to datetime using the pd.to_datetime function.\n",
    "2. Properly filtering the data for the years of interest required attention to detail, but by using the isin method, I successfully obtained the desired subset.\n",
    "\n",
    "**Improvements/Changes**\n",
    "For future business endeavors, integrating interactive elements into the visualization, such as tooltips or the ability to filter data dynamically, could enhance user engagement and exploration.\n",
    "Consideration of additional statistical analyses or time series forecasting could provide deeper insights into trends and potential future likes.\n",
    "\n",
    "In conclusion, this project demonstrates my proficiency in data manipulation, visualization, and communication of insights. I believe my approach sets this portfolio project apart by focusing on simplicity, clarity, and the potential for future enhancements. I am open to feedback and eager to further refine my skills as I continue to engage in data science and analysis projects."
   ]
  },
  {
   "cell_type": "code",
   "execution_count": null,
   "metadata": {},
   "outputs": [],
   "source": []
  }
 ],
 "metadata": {
  "kernelspec": {
   "display_name": "Python 3",
   "language": "python",
   "name": "python3"
  },
  "language_info": {
   "codemirror_mode": {
    "name": "ipython",
    "version": 3
   },
   "file_extension": ".py",
   "mimetype": "text/x-python",
   "name": "python",
   "nbconvert_exporter": "python",
   "pygments_lexer": "ipython3",
   "version": "3.7.6"
  }
 },
 "nbformat": 4,
 "nbformat_minor": 4
}
